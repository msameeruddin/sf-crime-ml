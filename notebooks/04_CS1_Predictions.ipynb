{
 "cells": [
  {
   "cell_type": "markdown",
   "metadata": {
    "id": "3U0fLOPL--YB"
   },
   "source": [
    "<center><h1>San Francisco Crime Classification - Predictions</h1></center>"
   ]
  },
  {
   "cell_type": "markdown",
   "metadata": {
    "id": "wp6WPhNW_RH1"
   },
   "source": [
    "### `import` Packages"
   ]
  },
  {
   "cell_type": "code",
   "execution_count": 1,
   "metadata": {
    "id": "LIk2PCDu-WOW"
   },
   "outputs": [],
   "source": [
    "import warnings\n",
    "warnings.filterwarnings('ignore')\n",
    "\n",
    "import pickle\n",
    "import random\n",
    "import os\n",
    "import pandas as pd\n",
    "import numpy as np\n",
    "\n",
    "from sklearn.preprocessing import StandardScaler"
   ]
  },
  {
   "cell_type": "code",
   "execution_count": 2,
   "metadata": {
    "id": "PSAN2SBB_KQw"
   },
   "outputs": [],
   "source": [
    "project_path = '/content/drive/MyDrive/AAIC/SCS-1/sf_crime_classification/'"
   ]
  },
  {
   "cell_type": "markdown",
   "metadata": {
    "id": "HF-h_lQ8_UjK"
   },
   "source": [
    "### Test Data (Reading)\n",
    "\n",
    "* In the featurization part, I have already fit the training data and transformed the test data.\n",
    "\n",
    "* I did not fit the test data again as it would create data leakage problem.\n",
    "\n",
    "* For more details, please visit to my [jovian notebook](https://jovian.ai/msameeruddin/01-cs1-featurization)."
   ]
  },
  {
   "cell_type": "code",
   "execution_count": 3,
   "metadata": {
    "id": "aQGUWwzT_Pon"
   },
   "outputs": [],
   "source": [
    "train = pd.read_csv(filepath_or_buffer=project_path + 'csv_files/train_data_features.csv')\n",
    "data = pd.read_csv(filepath_or_buffer=project_path + 'csv_files/test_data_features.csv')"
   ]
  },
  {
   "cell_type": "code",
   "execution_count": 4,
   "metadata": {
    "id": "1jQAPZTyF18V"
   },
   "outputs": [],
   "source": [
    "data.drop(columns=['id'], axis=1, inplace=True)"
   ]
  },
  {
   "cell_type": "code",
   "execution_count": 5,
   "metadata": {
    "id": "0U-KTzP-bP8v"
   },
   "outputs": [],
   "source": [
    "def preprocess_data(X_train, X_new):\n",
    "    scaler = StandardScaler()\n",
    "    scaler.fit(X_train)\n",
    "    X = scaler.transform(X_new)\n",
    "    return X"
   ]
  },
  {
   "cell_type": "code",
   "execution_count": 6,
   "metadata": {
    "id": "EuksesgocbEA"
   },
   "outputs": [],
   "source": [
    "data = preprocess_data(X_train=train, X_new=data)"
   ]
  },
  {
   "cell_type": "code",
   "execution_count": 7,
   "metadata": {
    "colab": {
     "base_uri": "https://localhost:8080/"
    },
    "id": "H87lr0MmDE09",
    "outputId": "ad6b951b-8d78-4bdd-b361-545e259ca808"
   },
   "outputs": [
    {
     "data": {
      "text/plain": [
       "(884262, 130)"
      ]
     },
     "execution_count": 7,
     "metadata": {},
     "output_type": "execute_result"
    }
   ],
   "source": [
    "data.shape"
   ]
  },
  {
   "cell_type": "markdown",
   "metadata": {
    "id": "CGrRIaaBArGy"
   },
   "source": [
    "### Make Predictions"
   ]
  },
  {
   "cell_type": "code",
   "execution_count": 8,
   "metadata": {
    "id": "Ncx4opclA2q4"
   },
   "outputs": [],
   "source": [
    "labels = [\n",
    "    'ARSON',\n",
    "    'ASSAULT',\n",
    "    'BAD CHECKS',\n",
    "    'BRIBERY',\n",
    "    'BURGLARY',\n",
    "    'DISORDERLY CONDUCT',\n",
    "    'DRIVING UNDER THE INFLUENCE',\n",
    "    'DRUG/NARCOTIC',\n",
    "    'DRUNKENNESS',\n",
    "    'EMBEZZLEMENT',\n",
    "    'EXTORTION',\n",
    "    'FAMILY OFFENSES',\n",
    "    'FORGERY/COUNTERFEITING',\n",
    "    'FRAUD',\n",
    "    'GAMBLING',\n",
    "    'KIDNAPPING',\n",
    "    'LARCENY/THEFT',\n",
    "    'LIQUOR LAWS',\n",
    "    'LOITERING',\n",
    "    'MISSING PERSON',\n",
    "    'NON-CRIMINAL',\n",
    "    'OTHER OFFENSES',\n",
    "    'PORNOGRAPHY/OBSCENE MAT',\n",
    "    'PROSTITUTION',\n",
    "    'RECOVERED VEHICLE',\n",
    "    'ROBBERY',\n",
    "    'RUNAWAY',\n",
    "    'SECONDARY CODES',\n",
    "    'SEX OFFENSES FORCIBLE',\n",
    "    'SEX OFFENSES NON FORCIBLE',\n",
    "    'STOLEN PROPERTY',\n",
    "    'SUICIDE',\n",
    "    'SUSPICIOUS OCC',\n",
    "    'TREA',\n",
    "    'TRESPASS',\n",
    "    'VANDALISM',\n",
    "    'VEHICLE THEFT',\n",
    "    'WARRANTS',\n",
    "    'WEAPON LAWS'\n",
    " ]"
   ]
  },
  {
   "cell_type": "code",
   "execution_count": 9,
   "metadata": {
    "id": "gdZAJiWmAbZ2"
   },
   "outputs": [],
   "source": [
    "def make_predictions(X, model_name=None, labels=labels):\n",
    "    model_path = project_path + 'models/'\n",
    "\n",
    "    if (model_name == 'logistic_regression'):\n",
    "        model_path = model_path + 'log_reg_classifier.pkl'\n",
    "    elif (model_name == 'decision_tree'):\n",
    "        model_path = model_path + 'decision_tree_classifier.pkl'\n",
    "    elif (model_name == 'random_forest'):\n",
    "        model_path = model_path + 'random_forest_classifier.pkl'\n",
    "    else:\n",
    "        # X.columns = ['f{}'.format(i) for i in range(X.shape[1])]\n",
    "        model_path = model_path + 'xgboost_multi_classifier.pkl'\n",
    "    \n",
    "    preds_file = model_name + '_submissions.csv'\n",
    "    predictions_path = project_path + 'predictions/' + preds_file\n",
    "    \n",
    "    if not os.path.isfile(path=predictions_path):\n",
    "        model = pickle.load(open(model_path, 'rb'))\n",
    "        probas = model.predict_proba(X)\n",
    "        print(probas.shape)\n",
    "\n",
    "        ids = np.array(list(range(X.shape[0]))).reshape(-1, 1)\n",
    "        pred_data = np.hstack(tup=(ids, probas))\n",
    "        pred_df = pd.DataFrame(data=pred_data, columns=['Id'] + labels)\n",
    "        pred_df['Id'] = pred_df['Id'].astype(int)\n",
    "        pred_df.to_csv(path_or_buf=predictions_path, index=None)\n",
    "        return pred_df\n",
    "    else:\n",
    "        print('Predictions already exists.')\n",
    "        print('Model name : ', model_name)\n",
    "        pred_df = pd.read_csv(filepath_or_buffer=predictions_path)\n",
    "        return pred_df\n",
    "    \n",
    "    return None"
   ]
  },
  {
   "cell_type": "markdown",
   "metadata": {
    "id": "BQZFsdtHFU65"
   },
   "source": [
    "### Logistic Regression Predictions"
   ]
  },
  {
   "cell_type": "code",
   "execution_count": 10,
   "metadata": {
    "colab": {
     "base_uri": "https://localhost:8080/"
    },
    "id": "6rvUBBr-Dzkw",
    "outputId": "4efe2aef-b01b-4340-f9de-0fb1b3eec49a"
   },
   "outputs": [
    {
     "name": "stdout",
     "output_type": "stream",
     "text": [
      "Predictions already exists.\n",
      "Model name :  logistic_regression\n"
     ]
    }
   ],
   "source": [
    "model_name = 'logistic_regression'\n",
    "lr_preds = make_predictions(X=data, model_name=model_name)"
   ]
  },
  {
   "cell_type": "code",
   "execution_count": 11,
   "metadata": {
    "colab": {
     "base_uri": "https://localhost:8080/",
     "height": 228
    },
    "id": "_ki15oG7FmeL",
    "outputId": "0658da07-e5c5-4298-cf4b-23b9a6debb45"
   },
   "outputs": [
    {
     "data": {
      "text/html": [
       "\n",
       "  <div id=\"df-eb73b72d-1402-4549-b93f-dd086995b507\">\n",
       "    <div class=\"colab-df-container\">\n",
       "      <div>\n",
       "<style scoped>\n",
       "    .dataframe tbody tr th:only-of-type {\n",
       "        vertical-align: middle;\n",
       "    }\n",
       "\n",
       "    .dataframe tbody tr th {\n",
       "        vertical-align: top;\n",
       "    }\n",
       "\n",
       "    .dataframe thead th {\n",
       "        text-align: right;\n",
       "    }\n",
       "</style>\n",
       "<table border=\"1\" class=\"dataframe\">\n",
       "  <thead>\n",
       "    <tr style=\"text-align: right;\">\n",
       "      <th></th>\n",
       "      <th>Id</th>\n",
       "      <th>ARSON</th>\n",
       "      <th>ASSAULT</th>\n",
       "      <th>BAD CHECKS</th>\n",
       "      <th>BRIBERY</th>\n",
       "      <th>BURGLARY</th>\n",
       "      <th>DISORDERLY CONDUCT</th>\n",
       "      <th>DRIVING UNDER THE INFLUENCE</th>\n",
       "      <th>DRUG/NARCOTIC</th>\n",
       "      <th>DRUNKENNESS</th>\n",
       "      <th>EMBEZZLEMENT</th>\n",
       "      <th>EXTORTION</th>\n",
       "      <th>FAMILY OFFENSES</th>\n",
       "      <th>FORGERY/COUNTERFEITING</th>\n",
       "      <th>FRAUD</th>\n",
       "      <th>GAMBLING</th>\n",
       "      <th>KIDNAPPING</th>\n",
       "      <th>LARCENY/THEFT</th>\n",
       "      <th>LIQUOR LAWS</th>\n",
       "      <th>LOITERING</th>\n",
       "      <th>MISSING PERSON</th>\n",
       "      <th>NON-CRIMINAL</th>\n",
       "      <th>OTHER OFFENSES</th>\n",
       "      <th>PORNOGRAPHY/OBSCENE MAT</th>\n",
       "      <th>PROSTITUTION</th>\n",
       "      <th>RECOVERED VEHICLE</th>\n",
       "      <th>ROBBERY</th>\n",
       "      <th>RUNAWAY</th>\n",
       "      <th>SECONDARY CODES</th>\n",
       "      <th>SEX OFFENSES FORCIBLE</th>\n",
       "      <th>SEX OFFENSES NON FORCIBLE</th>\n",
       "      <th>STOLEN PROPERTY</th>\n",
       "      <th>SUICIDE</th>\n",
       "      <th>SUSPICIOUS OCC</th>\n",
       "      <th>TREA</th>\n",
       "      <th>TRESPASS</th>\n",
       "      <th>VANDALISM</th>\n",
       "      <th>VEHICLE THEFT</th>\n",
       "      <th>WARRANTS</th>\n",
       "      <th>WEAPON LAWS</th>\n",
       "    </tr>\n",
       "  </thead>\n",
       "  <tbody>\n",
       "    <tr>\n",
       "      <th>0</th>\n",
       "      <td>0</td>\n",
       "      <td>0.006810</td>\n",
       "      <td>0.121123</td>\n",
       "      <td>0.00018</td>\n",
       "      <td>0.000434</td>\n",
       "      <td>0.032989</td>\n",
       "      <td>0.004379</td>\n",
       "      <td>0.007138</td>\n",
       "      <td>0.056211</td>\n",
       "      <td>0.008563</td>\n",
       "      <td>0.000250</td>\n",
       "      <td>0.000263</td>\n",
       "      <td>0.000647</td>\n",
       "      <td>0.000421</td>\n",
       "      <td>0.002368</td>\n",
       "      <td>0.000162</td>\n",
       "      <td>0.004104</td>\n",
       "      <td>0.131456</td>\n",
       "      <td>0.002034</td>\n",
       "      <td>0.000361</td>\n",
       "      <td>0.022498</td>\n",
       "      <td>0.099188</td>\n",
       "      <td>0.167898</td>\n",
       "      <td>0.000045</td>\n",
       "      <td>0.001278</td>\n",
       "      <td>0.010929</td>\n",
       "      <td>0.035367</td>\n",
       "      <td>0.001685</td>\n",
       "      <td>0.033758</td>\n",
       "      <td>0.004977</td>\n",
       "      <td>0.000183</td>\n",
       "      <td>0.007010</td>\n",
       "      <td>0.000686</td>\n",
       "      <td>0.041331</td>\n",
       "      <td>0.000019</td>\n",
       "      <td>0.008786</td>\n",
       "      <td>0.059841</td>\n",
       "      <td>0.038194</td>\n",
       "      <td>0.058017</td>\n",
       "      <td>0.028418</td>\n",
       "    </tr>\n",
       "    <tr>\n",
       "      <th>1</th>\n",
       "      <td>1</td>\n",
       "      <td>0.003566</td>\n",
       "      <td>0.091150</td>\n",
       "      <td>0.00011</td>\n",
       "      <td>0.000325</td>\n",
       "      <td>0.004050</td>\n",
       "      <td>0.003555</td>\n",
       "      <td>0.022420</td>\n",
       "      <td>0.081024</td>\n",
       "      <td>0.010173</td>\n",
       "      <td>0.000125</td>\n",
       "      <td>0.000206</td>\n",
       "      <td>0.000298</td>\n",
       "      <td>0.000170</td>\n",
       "      <td>0.002016</td>\n",
       "      <td>0.000145</td>\n",
       "      <td>0.002961</td>\n",
       "      <td>0.132604</td>\n",
       "      <td>0.002216</td>\n",
       "      <td>0.000777</td>\n",
       "      <td>0.004111</td>\n",
       "      <td>0.090481</td>\n",
       "      <td>0.248452</td>\n",
       "      <td>0.000021</td>\n",
       "      <td>0.002583</td>\n",
       "      <td>0.004854</td>\n",
       "      <td>0.047640</td>\n",
       "      <td>0.000233</td>\n",
       "      <td>0.016677</td>\n",
       "      <td>0.003736</td>\n",
       "      <td>0.000146</td>\n",
       "      <td>0.006381</td>\n",
       "      <td>0.000309</td>\n",
       "      <td>0.030777</td>\n",
       "      <td>0.000010</td>\n",
       "      <td>0.003536</td>\n",
       "      <td>0.045989</td>\n",
       "      <td>0.040382</td>\n",
       "      <td>0.065869</td>\n",
       "      <td>0.029923</td>\n",
       "    </tr>\n",
       "  </tbody>\n",
       "</table>\n",
       "</div>\n",
       "      <button class=\"colab-df-convert\" onclick=\"convertToInteractive('df-eb73b72d-1402-4549-b93f-dd086995b507')\"\n",
       "              title=\"Convert this dataframe to an interactive table.\"\n",
       "              style=\"display:none;\">\n",
       "        \n",
       "  <svg xmlns=\"http://www.w3.org/2000/svg\" height=\"24px\"viewBox=\"0 0 24 24\"\n",
       "       width=\"24px\">\n",
       "    <path d=\"M0 0h24v24H0V0z\" fill=\"none\"/>\n",
       "    <path d=\"M18.56 5.44l.94 2.06.94-2.06 2.06-.94-2.06-.94-.94-2.06-.94 2.06-2.06.94zm-11 1L8.5 8.5l.94-2.06 2.06-.94-2.06-.94L8.5 2.5l-.94 2.06-2.06.94zm10 10l.94 2.06.94-2.06 2.06-.94-2.06-.94-.94-2.06-.94 2.06-2.06.94z\"/><path d=\"M17.41 7.96l-1.37-1.37c-.4-.4-.92-.59-1.43-.59-.52 0-1.04.2-1.43.59L10.3 9.45l-7.72 7.72c-.78.78-.78 2.05 0 2.83L4 21.41c.39.39.9.59 1.41.59.51 0 1.02-.2 1.41-.59l7.78-7.78 2.81-2.81c.8-.78.8-2.07 0-2.86zM5.41 20L4 18.59l7.72-7.72 1.47 1.35L5.41 20z\"/>\n",
       "  </svg>\n",
       "      </button>\n",
       "      \n",
       "  <style>\n",
       "    .colab-df-container {\n",
       "      display:flex;\n",
       "      flex-wrap:wrap;\n",
       "      gap: 12px;\n",
       "    }\n",
       "\n",
       "    .colab-df-convert {\n",
       "      background-color: #E8F0FE;\n",
       "      border: none;\n",
       "      border-radius: 50%;\n",
       "      cursor: pointer;\n",
       "      display: none;\n",
       "      fill: #1967D2;\n",
       "      height: 32px;\n",
       "      padding: 0 0 0 0;\n",
       "      width: 32px;\n",
       "    }\n",
       "\n",
       "    .colab-df-convert:hover {\n",
       "      background-color: #E2EBFA;\n",
       "      box-shadow: 0px 1px 2px rgba(60, 64, 67, 0.3), 0px 1px 3px 1px rgba(60, 64, 67, 0.15);\n",
       "      fill: #174EA6;\n",
       "    }\n",
       "\n",
       "    [theme=dark] .colab-df-convert {\n",
       "      background-color: #3B4455;\n",
       "      fill: #D2E3FC;\n",
       "    }\n",
       "\n",
       "    [theme=dark] .colab-df-convert:hover {\n",
       "      background-color: #434B5C;\n",
       "      box-shadow: 0px 1px 3px 1px rgba(0, 0, 0, 0.15);\n",
       "      filter: drop-shadow(0px 1px 2px rgba(0, 0, 0, 0.3));\n",
       "      fill: #FFFFFF;\n",
       "    }\n",
       "  </style>\n",
       "\n",
       "      <script>\n",
       "        const buttonEl =\n",
       "          document.querySelector('#df-eb73b72d-1402-4549-b93f-dd086995b507 button.colab-df-convert');\n",
       "        buttonEl.style.display =\n",
       "          google.colab.kernel.accessAllowed ? 'block' : 'none';\n",
       "\n",
       "        async function convertToInteractive(key) {\n",
       "          const element = document.querySelector('#df-eb73b72d-1402-4549-b93f-dd086995b507');\n",
       "          const dataTable =\n",
       "            await google.colab.kernel.invokeFunction('convertToInteractive',\n",
       "                                                     [key], {});\n",
       "          if (!dataTable) return;\n",
       "\n",
       "          const docLinkHtml = 'Like what you see? Visit the ' +\n",
       "            '<a target=\"_blank\" href=https://colab.research.google.com/notebooks/data_table.ipynb>data table notebook</a>'\n",
       "            + ' to learn more about interactive tables.';\n",
       "          element.innerHTML = '';\n",
       "          dataTable['output_type'] = 'display_data';\n",
       "          await google.colab.output.renderOutput(dataTable, element);\n",
       "          const docLink = document.createElement('div');\n",
       "          docLink.innerHTML = docLinkHtml;\n",
       "          element.appendChild(docLink);\n",
       "        }\n",
       "      </script>\n",
       "    </div>\n",
       "  </div>\n",
       "  "
      ],
      "text/plain": [
       "   Id     ARSON   ASSAULT  ...  VEHICLE THEFT  WARRANTS  WEAPON LAWS\n",
       "0   0  0.006810  0.121123  ...       0.038194  0.058017     0.028418\n",
       "1   1  0.003566  0.091150  ...       0.040382  0.065869     0.029923\n",
       "\n",
       "[2 rows x 40 columns]"
      ]
     },
     "execution_count": 11,
     "metadata": {},
     "output_type": "execute_result"
    }
   ],
   "source": [
    "lr_preds.head(2)"
   ]
  },
  {
   "cell_type": "code",
   "execution_count": 12,
   "metadata": {
    "id": "rlU1s4MldrIZ"
   },
   "outputs": [],
   "source": [
    "# ! kaggle competitions submit -c sf-crime -f logistic_regression_submissions.csv -m \"Implemented logistic regression model.\""
   ]
  },
  {
   "cell_type": "markdown",
   "metadata": {
    "id": "avkB6UXgggQQ"
   },
   "source": [
    "![image](https://user-images.githubusercontent.com/63333753/150188034-3ae9e0cd-5c7c-4fc6-ba1d-c07fb1586f8e.png)"
   ]
  },
  {
   "cell_type": "markdown",
   "metadata": {
    "id": "mjnvTswBGjKF"
   },
   "source": [
    "### Decision Tree Predictions"
   ]
  },
  {
   "cell_type": "code",
   "execution_count": 13,
   "metadata": {
    "colab": {
     "base_uri": "https://localhost:8080/"
    },
    "id": "SYUSadaUGZBh",
    "outputId": "8c7338df-a3d0-4a5c-ef65-91fb1ac555ab"
   },
   "outputs": [
    {
     "name": "stdout",
     "output_type": "stream",
     "text": [
      "Predictions already exists.\n",
      "Model name :  decision_tree\n"
     ]
    }
   ],
   "source": [
    "model_name = 'decision_tree'\n",
    "dt_preds = make_predictions(X=data, model_name=model_name)"
   ]
  },
  {
   "cell_type": "code",
   "execution_count": 14,
   "metadata": {
    "colab": {
     "base_uri": "https://localhost:8080/",
     "height": 228
    },
    "id": "XyY8b6N0GtAR",
    "outputId": "81eeb2d7-9a21-47da-b372-a7146cb1090a"
   },
   "outputs": [
    {
     "data": {
      "text/html": [
       "\n",
       "  <div id=\"df-04c0e6f5-36a2-4fb0-9668-19e6fe458168\">\n",
       "    <div class=\"colab-df-container\">\n",
       "      <div>\n",
       "<style scoped>\n",
       "    .dataframe tbody tr th:only-of-type {\n",
       "        vertical-align: middle;\n",
       "    }\n",
       "\n",
       "    .dataframe tbody tr th {\n",
       "        vertical-align: top;\n",
       "    }\n",
       "\n",
       "    .dataframe thead th {\n",
       "        text-align: right;\n",
       "    }\n",
       "</style>\n",
       "<table border=\"1\" class=\"dataframe\">\n",
       "  <thead>\n",
       "    <tr style=\"text-align: right;\">\n",
       "      <th></th>\n",
       "      <th>Id</th>\n",
       "      <th>ARSON</th>\n",
       "      <th>ASSAULT</th>\n",
       "      <th>BAD CHECKS</th>\n",
       "      <th>BRIBERY</th>\n",
       "      <th>BURGLARY</th>\n",
       "      <th>DISORDERLY CONDUCT</th>\n",
       "      <th>DRIVING UNDER THE INFLUENCE</th>\n",
       "      <th>DRUG/NARCOTIC</th>\n",
       "      <th>DRUNKENNESS</th>\n",
       "      <th>EMBEZZLEMENT</th>\n",
       "      <th>EXTORTION</th>\n",
       "      <th>FAMILY OFFENSES</th>\n",
       "      <th>FORGERY/COUNTERFEITING</th>\n",
       "      <th>FRAUD</th>\n",
       "      <th>GAMBLING</th>\n",
       "      <th>KIDNAPPING</th>\n",
       "      <th>LARCENY/THEFT</th>\n",
       "      <th>LIQUOR LAWS</th>\n",
       "      <th>LOITERING</th>\n",
       "      <th>MISSING PERSON</th>\n",
       "      <th>NON-CRIMINAL</th>\n",
       "      <th>OTHER OFFENSES</th>\n",
       "      <th>PORNOGRAPHY/OBSCENE MAT</th>\n",
       "      <th>PROSTITUTION</th>\n",
       "      <th>RECOVERED VEHICLE</th>\n",
       "      <th>ROBBERY</th>\n",
       "      <th>RUNAWAY</th>\n",
       "      <th>SECONDARY CODES</th>\n",
       "      <th>SEX OFFENSES FORCIBLE</th>\n",
       "      <th>SEX OFFENSES NON FORCIBLE</th>\n",
       "      <th>STOLEN PROPERTY</th>\n",
       "      <th>SUICIDE</th>\n",
       "      <th>SUSPICIOUS OCC</th>\n",
       "      <th>TREA</th>\n",
       "      <th>TRESPASS</th>\n",
       "      <th>VANDALISM</th>\n",
       "      <th>VEHICLE THEFT</th>\n",
       "      <th>WARRANTS</th>\n",
       "      <th>WEAPON LAWS</th>\n",
       "    </tr>\n",
       "  </thead>\n",
       "  <tbody>\n",
       "    <tr>\n",
       "      <th>0</th>\n",
       "      <td>0</td>\n",
       "      <td>0.002118</td>\n",
       "      <td>0.165765</td>\n",
       "      <td>0.000461</td>\n",
       "      <td>0.000350</td>\n",
       "      <td>0.029653</td>\n",
       "      <td>0.004367</td>\n",
       "      <td>0.002851</td>\n",
       "      <td>0.040854</td>\n",
       "      <td>0.004421</td>\n",
       "      <td>0.001254</td>\n",
       "      <td>0.000310</td>\n",
       "      <td>0.000598</td>\n",
       "      <td>0.009633</td>\n",
       "      <td>0.014851</td>\n",
       "      <td>0.000172</td>\n",
       "      <td>0.003020</td>\n",
       "      <td>0.115277</td>\n",
       "      <td>0.002200</td>\n",
       "      <td>0.001348</td>\n",
       "      <td>0.025965</td>\n",
       "      <td>0.115913</td>\n",
       "      <td>0.138277</td>\n",
       "      <td>0.000032</td>\n",
       "      <td>0.003947</td>\n",
       "      <td>0.010242</td>\n",
       "      <td>0.042982</td>\n",
       "      <td>0.001952</td>\n",
       "      <td>0.018854</td>\n",
       "      <td>0.004948</td>\n",
       "      <td>0.000184</td>\n",
       "      <td>0.006122</td>\n",
       "      <td>0.000619</td>\n",
       "      <td>0.055769</td>\n",
       "      <td>0.000015</td>\n",
       "      <td>0.007769</td>\n",
       "      <td>0.056521</td>\n",
       "      <td>0.045942</td>\n",
       "      <td>0.045315</td>\n",
       "      <td>0.019132</td>\n",
       "    </tr>\n",
       "    <tr>\n",
       "      <th>1</th>\n",
       "      <td>1</td>\n",
       "      <td>0.001423</td>\n",
       "      <td>0.058543</td>\n",
       "      <td>0.000369</td>\n",
       "      <td>0.000297</td>\n",
       "      <td>0.017480</td>\n",
       "      <td>0.003436</td>\n",
       "      <td>0.002075</td>\n",
       "      <td>0.043398</td>\n",
       "      <td>0.003123</td>\n",
       "      <td>0.000978</td>\n",
       "      <td>0.000248</td>\n",
       "      <td>0.000413</td>\n",
       "      <td>0.007671</td>\n",
       "      <td>0.012043</td>\n",
       "      <td>0.000138</td>\n",
       "      <td>0.002068</td>\n",
       "      <td>0.075626</td>\n",
       "      <td>0.001623</td>\n",
       "      <td>0.001081</td>\n",
       "      <td>0.017545</td>\n",
       "      <td>0.059270</td>\n",
       "      <td>0.473370</td>\n",
       "      <td>0.000025</td>\n",
       "      <td>0.003165</td>\n",
       "      <td>0.002508</td>\n",
       "      <td>0.027776</td>\n",
       "      <td>0.001524</td>\n",
       "      <td>0.008610</td>\n",
       "      <td>0.003879</td>\n",
       "      <td>0.000147</td>\n",
       "      <td>0.004296</td>\n",
       "      <td>0.000472</td>\n",
       "      <td>0.034465</td>\n",
       "      <td>0.000012</td>\n",
       "      <td>0.005606</td>\n",
       "      <td>0.028453</td>\n",
       "      <td>0.029831</td>\n",
       "      <td>0.055203</td>\n",
       "      <td>0.011809</td>\n",
       "    </tr>\n",
       "  </tbody>\n",
       "</table>\n",
       "</div>\n",
       "      <button class=\"colab-df-convert\" onclick=\"convertToInteractive('df-04c0e6f5-36a2-4fb0-9668-19e6fe458168')\"\n",
       "              title=\"Convert this dataframe to an interactive table.\"\n",
       "              style=\"display:none;\">\n",
       "        \n",
       "  <svg xmlns=\"http://www.w3.org/2000/svg\" height=\"24px\"viewBox=\"0 0 24 24\"\n",
       "       width=\"24px\">\n",
       "    <path d=\"M0 0h24v24H0V0z\" fill=\"none\"/>\n",
       "    <path d=\"M18.56 5.44l.94 2.06.94-2.06 2.06-.94-2.06-.94-.94-2.06-.94 2.06-2.06.94zm-11 1L8.5 8.5l.94-2.06 2.06-.94-2.06-.94L8.5 2.5l-.94 2.06-2.06.94zm10 10l.94 2.06.94-2.06 2.06-.94-2.06-.94-.94-2.06-.94 2.06-2.06.94z\"/><path d=\"M17.41 7.96l-1.37-1.37c-.4-.4-.92-.59-1.43-.59-.52 0-1.04.2-1.43.59L10.3 9.45l-7.72 7.72c-.78.78-.78 2.05 0 2.83L4 21.41c.39.39.9.59 1.41.59.51 0 1.02-.2 1.41-.59l7.78-7.78 2.81-2.81c.8-.78.8-2.07 0-2.86zM5.41 20L4 18.59l7.72-7.72 1.47 1.35L5.41 20z\"/>\n",
       "  </svg>\n",
       "      </button>\n",
       "      \n",
       "  <style>\n",
       "    .colab-df-container {\n",
       "      display:flex;\n",
       "      flex-wrap:wrap;\n",
       "      gap: 12px;\n",
       "    }\n",
       "\n",
       "    .colab-df-convert {\n",
       "      background-color: #E8F0FE;\n",
       "      border: none;\n",
       "      border-radius: 50%;\n",
       "      cursor: pointer;\n",
       "      display: none;\n",
       "      fill: #1967D2;\n",
       "      height: 32px;\n",
       "      padding: 0 0 0 0;\n",
       "      width: 32px;\n",
       "    }\n",
       "\n",
       "    .colab-df-convert:hover {\n",
       "      background-color: #E2EBFA;\n",
       "      box-shadow: 0px 1px 2px rgba(60, 64, 67, 0.3), 0px 1px 3px 1px rgba(60, 64, 67, 0.15);\n",
       "      fill: #174EA6;\n",
       "    }\n",
       "\n",
       "    [theme=dark] .colab-df-convert {\n",
       "      background-color: #3B4455;\n",
       "      fill: #D2E3FC;\n",
       "    }\n",
       "\n",
       "    [theme=dark] .colab-df-convert:hover {\n",
       "      background-color: #434B5C;\n",
       "      box-shadow: 0px 1px 3px 1px rgba(0, 0, 0, 0.15);\n",
       "      filter: drop-shadow(0px 1px 2px rgba(0, 0, 0, 0.3));\n",
       "      fill: #FFFFFF;\n",
       "    }\n",
       "  </style>\n",
       "\n",
       "      <script>\n",
       "        const buttonEl =\n",
       "          document.querySelector('#df-04c0e6f5-36a2-4fb0-9668-19e6fe458168 button.colab-df-convert');\n",
       "        buttonEl.style.display =\n",
       "          google.colab.kernel.accessAllowed ? 'block' : 'none';\n",
       "\n",
       "        async function convertToInteractive(key) {\n",
       "          const element = document.querySelector('#df-04c0e6f5-36a2-4fb0-9668-19e6fe458168');\n",
       "          const dataTable =\n",
       "            await google.colab.kernel.invokeFunction('convertToInteractive',\n",
       "                                                     [key], {});\n",
       "          if (!dataTable) return;\n",
       "\n",
       "          const docLinkHtml = 'Like what you see? Visit the ' +\n",
       "            '<a target=\"_blank\" href=https://colab.research.google.com/notebooks/data_table.ipynb>data table notebook</a>'\n",
       "            + ' to learn more about interactive tables.';\n",
       "          element.innerHTML = '';\n",
       "          dataTable['output_type'] = 'display_data';\n",
       "          await google.colab.output.renderOutput(dataTable, element);\n",
       "          const docLink = document.createElement('div');\n",
       "          docLink.innerHTML = docLinkHtml;\n",
       "          element.appendChild(docLink);\n",
       "        }\n",
       "      </script>\n",
       "    </div>\n",
       "  </div>\n",
       "  "
      ],
      "text/plain": [
       "   Id     ARSON   ASSAULT  ...  VEHICLE THEFT  WARRANTS  WEAPON LAWS\n",
       "0   0  0.002118  0.165765  ...       0.045942  0.045315     0.019132\n",
       "1   1  0.001423  0.058543  ...       0.029831  0.055203     0.011809\n",
       "\n",
       "[2 rows x 40 columns]"
      ]
     },
     "execution_count": 14,
     "metadata": {},
     "output_type": "execute_result"
    }
   ],
   "source": [
    "dt_preds.head(2)"
   ]
  },
  {
   "cell_type": "code",
   "execution_count": 15,
   "metadata": {
    "id": "Lk6h1XcjeL2F"
   },
   "outputs": [],
   "source": [
    "# ! kaggle competitions submit -c sf-crime -f decision_tree_submissions.csv -m \"Implemented decision tree model.\""
   ]
  },
  {
   "cell_type": "markdown",
   "metadata": {
    "id": "COAfcz6zg5lS"
   },
   "source": [
    "![image](https://user-images.githubusercontent.com/63333753/150188343-47a07823-8cb2-422c-87f1-09944beeb677.png)"
   ]
  },
  {
   "cell_type": "markdown",
   "metadata": {
    "id": "TB8dWT6EHCza"
   },
   "source": [
    "### Random Forest Predictions"
   ]
  },
  {
   "cell_type": "code",
   "execution_count": 16,
   "metadata": {
    "colab": {
     "base_uri": "https://localhost:8080/"
    },
    "id": "2XEPobb0Gu6A",
    "outputId": "697b590e-e345-4324-d953-0b96d647588f"
   },
   "outputs": [
    {
     "name": "stdout",
     "output_type": "stream",
     "text": [
      "Predictions already exists.\n",
      "Model name :  random_forest\n"
     ]
    }
   ],
   "source": [
    "model_name = 'random_forest'\n",
    "rf_preds = make_predictions(X=data, model_name=model_name)"
   ]
  },
  {
   "cell_type": "code",
   "execution_count": 17,
   "metadata": {
    "colab": {
     "base_uri": "https://localhost:8080/",
     "height": 228
    },
    "id": "uZu6VHxjHNUv",
    "outputId": "841b21e8-c6f9-473e-d847-42d2080abb44"
   },
   "outputs": [
    {
     "data": {
      "text/html": [
       "\n",
       "  <div id=\"df-e4643f47-c201-45b0-bd1e-c077b1b4a1e5\">\n",
       "    <div class=\"colab-df-container\">\n",
       "      <div>\n",
       "<style scoped>\n",
       "    .dataframe tbody tr th:only-of-type {\n",
       "        vertical-align: middle;\n",
       "    }\n",
       "\n",
       "    .dataframe tbody tr th {\n",
       "        vertical-align: top;\n",
       "    }\n",
       "\n",
       "    .dataframe thead th {\n",
       "        text-align: right;\n",
       "    }\n",
       "</style>\n",
       "<table border=\"1\" class=\"dataframe\">\n",
       "  <thead>\n",
       "    <tr style=\"text-align: right;\">\n",
       "      <th></th>\n",
       "      <th>Id</th>\n",
       "      <th>ARSON</th>\n",
       "      <th>ASSAULT</th>\n",
       "      <th>BAD CHECKS</th>\n",
       "      <th>BRIBERY</th>\n",
       "      <th>BURGLARY</th>\n",
       "      <th>DISORDERLY CONDUCT</th>\n",
       "      <th>DRIVING UNDER THE INFLUENCE</th>\n",
       "      <th>DRUG/NARCOTIC</th>\n",
       "      <th>DRUNKENNESS</th>\n",
       "      <th>EMBEZZLEMENT</th>\n",
       "      <th>EXTORTION</th>\n",
       "      <th>FAMILY OFFENSES</th>\n",
       "      <th>FORGERY/COUNTERFEITING</th>\n",
       "      <th>FRAUD</th>\n",
       "      <th>GAMBLING</th>\n",
       "      <th>KIDNAPPING</th>\n",
       "      <th>LARCENY/THEFT</th>\n",
       "      <th>LIQUOR LAWS</th>\n",
       "      <th>LOITERING</th>\n",
       "      <th>MISSING PERSON</th>\n",
       "      <th>NON-CRIMINAL</th>\n",
       "      <th>OTHER OFFENSES</th>\n",
       "      <th>PORNOGRAPHY/OBSCENE MAT</th>\n",
       "      <th>PROSTITUTION</th>\n",
       "      <th>RECOVERED VEHICLE</th>\n",
       "      <th>ROBBERY</th>\n",
       "      <th>RUNAWAY</th>\n",
       "      <th>SECONDARY CODES</th>\n",
       "      <th>SEX OFFENSES FORCIBLE</th>\n",
       "      <th>SEX OFFENSES NON FORCIBLE</th>\n",
       "      <th>STOLEN PROPERTY</th>\n",
       "      <th>SUICIDE</th>\n",
       "      <th>SUSPICIOUS OCC</th>\n",
       "      <th>TREA</th>\n",
       "      <th>TRESPASS</th>\n",
       "      <th>VANDALISM</th>\n",
       "      <th>VEHICLE THEFT</th>\n",
       "      <th>WARRANTS</th>\n",
       "      <th>WEAPON LAWS</th>\n",
       "    </tr>\n",
       "  </thead>\n",
       "  <tbody>\n",
       "    <tr>\n",
       "      <th>0</th>\n",
       "      <td>0</td>\n",
       "      <td>0.003593</td>\n",
       "      <td>0.181447</td>\n",
       "      <td>0.000345</td>\n",
       "      <td>0.000500</td>\n",
       "      <td>0.030004</td>\n",
       "      <td>0.003864</td>\n",
       "      <td>0.001677</td>\n",
       "      <td>0.035899</td>\n",
       "      <td>0.003450</td>\n",
       "      <td>0.001217</td>\n",
       "      <td>0.000295</td>\n",
       "      <td>0.000742</td>\n",
       "      <td>0.008759</td>\n",
       "      <td>0.010899</td>\n",
       "      <td>0.000192</td>\n",
       "      <td>0.005359</td>\n",
       "      <td>0.094183</td>\n",
       "      <td>0.001951</td>\n",
       "      <td>0.000603</td>\n",
       "      <td>0.051863</td>\n",
       "      <td>0.082983</td>\n",
       "      <td>0.12179</td>\n",
       "      <td>0.000031</td>\n",
       "      <td>0.003323</td>\n",
       "      <td>0.018768</td>\n",
       "      <td>0.029049</td>\n",
       "      <td>0.001819</td>\n",
       "      <td>0.025757</td>\n",
       "      <td>0.006029</td>\n",
       "      <td>0.000250</td>\n",
       "      <td>0.004727</td>\n",
       "      <td>0.000614</td>\n",
       "      <td>0.057898</td>\n",
       "      <td>0.000014</td>\n",
       "      <td>0.006791</td>\n",
       "      <td>0.070578</td>\n",
       "      <td>0.070346</td>\n",
       "      <td>0.037222</td>\n",
       "      <td>0.025171</td>\n",
       "    </tr>\n",
       "    <tr>\n",
       "      <th>1</th>\n",
       "      <td>1</td>\n",
       "      <td>0.001868</td>\n",
       "      <td>0.054511</td>\n",
       "      <td>0.000139</td>\n",
       "      <td>0.000339</td>\n",
       "      <td>0.006020</td>\n",
       "      <td>0.002849</td>\n",
       "      <td>0.002460</td>\n",
       "      <td>0.057245</td>\n",
       "      <td>0.002609</td>\n",
       "      <td>0.000726</td>\n",
       "      <td>0.000139</td>\n",
       "      <td>0.000329</td>\n",
       "      <td>0.002629</td>\n",
       "      <td>0.004945</td>\n",
       "      <td>0.000238</td>\n",
       "      <td>0.001489</td>\n",
       "      <td>0.056113</td>\n",
       "      <td>0.001897</td>\n",
       "      <td>0.000664</td>\n",
       "      <td>0.012243</td>\n",
       "      <td>0.036934</td>\n",
       "      <td>0.52328</td>\n",
       "      <td>0.000026</td>\n",
       "      <td>0.002733</td>\n",
       "      <td>0.002601</td>\n",
       "      <td>0.040813</td>\n",
       "      <td>0.000986</td>\n",
       "      <td>0.006967</td>\n",
       "      <td>0.001823</td>\n",
       "      <td>0.000117</td>\n",
       "      <td>0.003362</td>\n",
       "      <td>0.000412</td>\n",
       "      <td>0.024255</td>\n",
       "      <td>0.000012</td>\n",
       "      <td>0.002805</td>\n",
       "      <td>0.016721</td>\n",
       "      <td>0.024543</td>\n",
       "      <td>0.079048</td>\n",
       "      <td>0.023110</td>\n",
       "    </tr>\n",
       "  </tbody>\n",
       "</table>\n",
       "</div>\n",
       "      <button class=\"colab-df-convert\" onclick=\"convertToInteractive('df-e4643f47-c201-45b0-bd1e-c077b1b4a1e5')\"\n",
       "              title=\"Convert this dataframe to an interactive table.\"\n",
       "              style=\"display:none;\">\n",
       "        \n",
       "  <svg xmlns=\"http://www.w3.org/2000/svg\" height=\"24px\"viewBox=\"0 0 24 24\"\n",
       "       width=\"24px\">\n",
       "    <path d=\"M0 0h24v24H0V0z\" fill=\"none\"/>\n",
       "    <path d=\"M18.56 5.44l.94 2.06.94-2.06 2.06-.94-2.06-.94-.94-2.06-.94 2.06-2.06.94zm-11 1L8.5 8.5l.94-2.06 2.06-.94-2.06-.94L8.5 2.5l-.94 2.06-2.06.94zm10 10l.94 2.06.94-2.06 2.06-.94-2.06-.94-.94-2.06-.94 2.06-2.06.94z\"/><path d=\"M17.41 7.96l-1.37-1.37c-.4-.4-.92-.59-1.43-.59-.52 0-1.04.2-1.43.59L10.3 9.45l-7.72 7.72c-.78.78-.78 2.05 0 2.83L4 21.41c.39.39.9.59 1.41.59.51 0 1.02-.2 1.41-.59l7.78-7.78 2.81-2.81c.8-.78.8-2.07 0-2.86zM5.41 20L4 18.59l7.72-7.72 1.47 1.35L5.41 20z\"/>\n",
       "  </svg>\n",
       "      </button>\n",
       "      \n",
       "  <style>\n",
       "    .colab-df-container {\n",
       "      display:flex;\n",
       "      flex-wrap:wrap;\n",
       "      gap: 12px;\n",
       "    }\n",
       "\n",
       "    .colab-df-convert {\n",
       "      background-color: #E8F0FE;\n",
       "      border: none;\n",
       "      border-radius: 50%;\n",
       "      cursor: pointer;\n",
       "      display: none;\n",
       "      fill: #1967D2;\n",
       "      height: 32px;\n",
       "      padding: 0 0 0 0;\n",
       "      width: 32px;\n",
       "    }\n",
       "\n",
       "    .colab-df-convert:hover {\n",
       "      background-color: #E2EBFA;\n",
       "      box-shadow: 0px 1px 2px rgba(60, 64, 67, 0.3), 0px 1px 3px 1px rgba(60, 64, 67, 0.15);\n",
       "      fill: #174EA6;\n",
       "    }\n",
       "\n",
       "    [theme=dark] .colab-df-convert {\n",
       "      background-color: #3B4455;\n",
       "      fill: #D2E3FC;\n",
       "    }\n",
       "\n",
       "    [theme=dark] .colab-df-convert:hover {\n",
       "      background-color: #434B5C;\n",
       "      box-shadow: 0px 1px 3px 1px rgba(0, 0, 0, 0.15);\n",
       "      filter: drop-shadow(0px 1px 2px rgba(0, 0, 0, 0.3));\n",
       "      fill: #FFFFFF;\n",
       "    }\n",
       "  </style>\n",
       "\n",
       "      <script>\n",
       "        const buttonEl =\n",
       "          document.querySelector('#df-e4643f47-c201-45b0-bd1e-c077b1b4a1e5 button.colab-df-convert');\n",
       "        buttonEl.style.display =\n",
       "          google.colab.kernel.accessAllowed ? 'block' : 'none';\n",
       "\n",
       "        async function convertToInteractive(key) {\n",
       "          const element = document.querySelector('#df-e4643f47-c201-45b0-bd1e-c077b1b4a1e5');\n",
       "          const dataTable =\n",
       "            await google.colab.kernel.invokeFunction('convertToInteractive',\n",
       "                                                     [key], {});\n",
       "          if (!dataTable) return;\n",
       "\n",
       "          const docLinkHtml = 'Like what you see? Visit the ' +\n",
       "            '<a target=\"_blank\" href=https://colab.research.google.com/notebooks/data_table.ipynb>data table notebook</a>'\n",
       "            + ' to learn more about interactive tables.';\n",
       "          element.innerHTML = '';\n",
       "          dataTable['output_type'] = 'display_data';\n",
       "          await google.colab.output.renderOutput(dataTable, element);\n",
       "          const docLink = document.createElement('div');\n",
       "          docLink.innerHTML = docLinkHtml;\n",
       "          element.appendChild(docLink);\n",
       "        }\n",
       "      </script>\n",
       "    </div>\n",
       "  </div>\n",
       "  "
      ],
      "text/plain": [
       "   Id     ARSON   ASSAULT  ...  VEHICLE THEFT  WARRANTS  WEAPON LAWS\n",
       "0   0  0.003593  0.181447  ...       0.070346  0.037222     0.025171\n",
       "1   1  0.001868  0.054511  ...       0.024543  0.079048     0.023110\n",
       "\n",
       "[2 rows x 40 columns]"
      ]
     },
     "execution_count": 17,
     "metadata": {},
     "output_type": "execute_result"
    }
   ],
   "source": [
    "rf_preds.head(2)"
   ]
  },
  {
   "cell_type": "code",
   "execution_count": 18,
   "metadata": {
    "id": "Gx_P0H8TeloH"
   },
   "outputs": [],
   "source": [
    "# ! kaggle competitions submit -c sf-crime -f random_forest_submissions.csv -m \"Implemented random forest model.\""
   ]
  },
  {
   "cell_type": "markdown",
   "metadata": {
    "id": "9L150CjThh9A"
   },
   "source": [
    "![image](https://user-images.githubusercontent.com/63333753/150188699-3f2f8ff7-c68e-4559-a38b-556bbf03f890.png)"
   ]
  },
  {
   "cell_type": "markdown",
   "metadata": {
    "id": "fQmQDDNcHqhy"
   },
   "source": [
    "### XGBoost Predictions"
   ]
  },
  {
   "cell_type": "code",
   "execution_count": 19,
   "metadata": {
    "colab": {
     "base_uri": "https://localhost:8080/"
    },
    "id": "8claBNooHTPA",
    "outputId": "957b6d16-6929-47da-a1bb-00c4ccfc6d2f"
   },
   "outputs": [
    {
     "name": "stdout",
     "output_type": "stream",
     "text": [
      "Predictions already exists.\n",
      "Model name :  xgboost\n"
     ]
    }
   ],
   "source": [
    "model_name = 'xgboost'\n",
    "xgb_preds = make_predictions(X=data, model_name=model_name)"
   ]
  },
  {
   "cell_type": "code",
   "execution_count": 20,
   "metadata": {
    "colab": {
     "base_uri": "https://localhost:8080/",
     "height": 228
    },
    "id": "AckAqM4PH4sJ",
    "outputId": "fa812589-8142-4833-c7b2-f13af22fc416"
   },
   "outputs": [
    {
     "data": {
      "text/html": [
       "\n",
       "  <div id=\"df-f0adfa88-1c57-43dd-b66b-edd48e2b0340\">\n",
       "    <div class=\"colab-df-container\">\n",
       "      <div>\n",
       "<style scoped>\n",
       "    .dataframe tbody tr th:only-of-type {\n",
       "        vertical-align: middle;\n",
       "    }\n",
       "\n",
       "    .dataframe tbody tr th {\n",
       "        vertical-align: top;\n",
       "    }\n",
       "\n",
       "    .dataframe thead th {\n",
       "        text-align: right;\n",
       "    }\n",
       "</style>\n",
       "<table border=\"1\" class=\"dataframe\">\n",
       "  <thead>\n",
       "    <tr style=\"text-align: right;\">\n",
       "      <th></th>\n",
       "      <th>Id</th>\n",
       "      <th>ARSON</th>\n",
       "      <th>ASSAULT</th>\n",
       "      <th>BAD CHECKS</th>\n",
       "      <th>BRIBERY</th>\n",
       "      <th>BURGLARY</th>\n",
       "      <th>DISORDERLY CONDUCT</th>\n",
       "      <th>DRIVING UNDER THE INFLUENCE</th>\n",
       "      <th>DRUG/NARCOTIC</th>\n",
       "      <th>DRUNKENNESS</th>\n",
       "      <th>EMBEZZLEMENT</th>\n",
       "      <th>EXTORTION</th>\n",
       "      <th>FAMILY OFFENSES</th>\n",
       "      <th>FORGERY/COUNTERFEITING</th>\n",
       "      <th>FRAUD</th>\n",
       "      <th>GAMBLING</th>\n",
       "      <th>KIDNAPPING</th>\n",
       "      <th>LARCENY/THEFT</th>\n",
       "      <th>LIQUOR LAWS</th>\n",
       "      <th>LOITERING</th>\n",
       "      <th>MISSING PERSON</th>\n",
       "      <th>NON-CRIMINAL</th>\n",
       "      <th>OTHER OFFENSES</th>\n",
       "      <th>PORNOGRAPHY/OBSCENE MAT</th>\n",
       "      <th>PROSTITUTION</th>\n",
       "      <th>RECOVERED VEHICLE</th>\n",
       "      <th>ROBBERY</th>\n",
       "      <th>RUNAWAY</th>\n",
       "      <th>SECONDARY CODES</th>\n",
       "      <th>SEX OFFENSES FORCIBLE</th>\n",
       "      <th>SEX OFFENSES NON FORCIBLE</th>\n",
       "      <th>STOLEN PROPERTY</th>\n",
       "      <th>SUICIDE</th>\n",
       "      <th>SUSPICIOUS OCC</th>\n",
       "      <th>TREA</th>\n",
       "      <th>TRESPASS</th>\n",
       "      <th>VANDALISM</th>\n",
       "      <th>VEHICLE THEFT</th>\n",
       "      <th>WARRANTS</th>\n",
       "      <th>WEAPON LAWS</th>\n",
       "    </tr>\n",
       "  </thead>\n",
       "  <tbody>\n",
       "    <tr>\n",
       "      <th>0</th>\n",
       "      <td>0</td>\n",
       "      <td>0.001974</td>\n",
       "      <td>0.111186</td>\n",
       "      <td>0.000022</td>\n",
       "      <td>0.000530</td>\n",
       "      <td>0.015734</td>\n",
       "      <td>0.00153</td>\n",
       "      <td>0.003977</td>\n",
       "      <td>0.038742</td>\n",
       "      <td>0.007223</td>\n",
       "      <td>0.000116</td>\n",
       "      <td>0.000095</td>\n",
       "      <td>0.000640</td>\n",
       "      <td>0.001022</td>\n",
       "      <td>0.006808</td>\n",
       "      <td>0.000098</td>\n",
       "      <td>0.003456</td>\n",
       "      <td>0.062435</td>\n",
       "      <td>0.002896</td>\n",
       "      <td>0.000441</td>\n",
       "      <td>0.021759</td>\n",
       "      <td>0.131335</td>\n",
       "      <td>0.134631</td>\n",
       "      <td>0.000059</td>\n",
       "      <td>0.000086</td>\n",
       "      <td>0.000053</td>\n",
       "      <td>0.046069</td>\n",
       "      <td>0.000571</td>\n",
       "      <td>0.022667</td>\n",
       "      <td>0.003570</td>\n",
       "      <td>0.000057</td>\n",
       "      <td>0.005097</td>\n",
       "      <td>0.000273</td>\n",
       "      <td>0.064468</td>\n",
       "      <td>0.000043</td>\n",
       "      <td>0.014797</td>\n",
       "      <td>0.048900</td>\n",
       "      <td>0.175270</td>\n",
       "      <td>0.046669</td>\n",
       "      <td>0.024703</td>\n",
       "    </tr>\n",
       "    <tr>\n",
       "      <th>1</th>\n",
       "      <td>1</td>\n",
       "      <td>0.000696</td>\n",
       "      <td>0.076578</td>\n",
       "      <td>0.000016</td>\n",
       "      <td>0.000098</td>\n",
       "      <td>0.001488</td>\n",
       "      <td>0.00154</td>\n",
       "      <td>0.008110</td>\n",
       "      <td>0.058337</td>\n",
       "      <td>0.005225</td>\n",
       "      <td>0.000103</td>\n",
       "      <td>0.000042</td>\n",
       "      <td>0.000107</td>\n",
       "      <td>0.001259</td>\n",
       "      <td>0.003226</td>\n",
       "      <td>0.000113</td>\n",
       "      <td>0.002175</td>\n",
       "      <td>0.016201</td>\n",
       "      <td>0.003607</td>\n",
       "      <td>0.000116</td>\n",
       "      <td>0.004560</td>\n",
       "      <td>0.036110</td>\n",
       "      <td>0.529499</td>\n",
       "      <td>0.000013</td>\n",
       "      <td>0.000065</td>\n",
       "      <td>0.000039</td>\n",
       "      <td>0.038179</td>\n",
       "      <td>0.000043</td>\n",
       "      <td>0.009555</td>\n",
       "      <td>0.001105</td>\n",
       "      <td>0.000035</td>\n",
       "      <td>0.004110</td>\n",
       "      <td>0.000099</td>\n",
       "      <td>0.035980</td>\n",
       "      <td>0.000012</td>\n",
       "      <td>0.000421</td>\n",
       "      <td>0.011684</td>\n",
       "      <td>0.014565</td>\n",
       "      <td>0.119701</td>\n",
       "      <td>0.015187</td>\n",
       "    </tr>\n",
       "  </tbody>\n",
       "</table>\n",
       "</div>\n",
       "      <button class=\"colab-df-convert\" onclick=\"convertToInteractive('df-f0adfa88-1c57-43dd-b66b-edd48e2b0340')\"\n",
       "              title=\"Convert this dataframe to an interactive table.\"\n",
       "              style=\"display:none;\">\n",
       "        \n",
       "  <svg xmlns=\"http://www.w3.org/2000/svg\" height=\"24px\"viewBox=\"0 0 24 24\"\n",
       "       width=\"24px\">\n",
       "    <path d=\"M0 0h24v24H0V0z\" fill=\"none\"/>\n",
       "    <path d=\"M18.56 5.44l.94 2.06.94-2.06 2.06-.94-2.06-.94-.94-2.06-.94 2.06-2.06.94zm-11 1L8.5 8.5l.94-2.06 2.06-.94-2.06-.94L8.5 2.5l-.94 2.06-2.06.94zm10 10l.94 2.06.94-2.06 2.06-.94-2.06-.94-.94-2.06-.94 2.06-2.06.94z\"/><path d=\"M17.41 7.96l-1.37-1.37c-.4-.4-.92-.59-1.43-.59-.52 0-1.04.2-1.43.59L10.3 9.45l-7.72 7.72c-.78.78-.78 2.05 0 2.83L4 21.41c.39.39.9.59 1.41.59.51 0 1.02-.2 1.41-.59l7.78-7.78 2.81-2.81c.8-.78.8-2.07 0-2.86zM5.41 20L4 18.59l7.72-7.72 1.47 1.35L5.41 20z\"/>\n",
       "  </svg>\n",
       "      </button>\n",
       "      \n",
       "  <style>\n",
       "    .colab-df-container {\n",
       "      display:flex;\n",
       "      flex-wrap:wrap;\n",
       "      gap: 12px;\n",
       "    }\n",
       "\n",
       "    .colab-df-convert {\n",
       "      background-color: #E8F0FE;\n",
       "      border: none;\n",
       "      border-radius: 50%;\n",
       "      cursor: pointer;\n",
       "      display: none;\n",
       "      fill: #1967D2;\n",
       "      height: 32px;\n",
       "      padding: 0 0 0 0;\n",
       "      width: 32px;\n",
       "    }\n",
       "\n",
       "    .colab-df-convert:hover {\n",
       "      background-color: #E2EBFA;\n",
       "      box-shadow: 0px 1px 2px rgba(60, 64, 67, 0.3), 0px 1px 3px 1px rgba(60, 64, 67, 0.15);\n",
       "      fill: #174EA6;\n",
       "    }\n",
       "\n",
       "    [theme=dark] .colab-df-convert {\n",
       "      background-color: #3B4455;\n",
       "      fill: #D2E3FC;\n",
       "    }\n",
       "\n",
       "    [theme=dark] .colab-df-convert:hover {\n",
       "      background-color: #434B5C;\n",
       "      box-shadow: 0px 1px 3px 1px rgba(0, 0, 0, 0.15);\n",
       "      filter: drop-shadow(0px 1px 2px rgba(0, 0, 0, 0.3));\n",
       "      fill: #FFFFFF;\n",
       "    }\n",
       "  </style>\n",
       "\n",
       "      <script>\n",
       "        const buttonEl =\n",
       "          document.querySelector('#df-f0adfa88-1c57-43dd-b66b-edd48e2b0340 button.colab-df-convert');\n",
       "        buttonEl.style.display =\n",
       "          google.colab.kernel.accessAllowed ? 'block' : 'none';\n",
       "\n",
       "        async function convertToInteractive(key) {\n",
       "          const element = document.querySelector('#df-f0adfa88-1c57-43dd-b66b-edd48e2b0340');\n",
       "          const dataTable =\n",
       "            await google.colab.kernel.invokeFunction('convertToInteractive',\n",
       "                                                     [key], {});\n",
       "          if (!dataTable) return;\n",
       "\n",
       "          const docLinkHtml = 'Like what you see? Visit the ' +\n",
       "            '<a target=\"_blank\" href=https://colab.research.google.com/notebooks/data_table.ipynb>data table notebook</a>'\n",
       "            + ' to learn more about interactive tables.';\n",
       "          element.innerHTML = '';\n",
       "          dataTable['output_type'] = 'display_data';\n",
       "          await google.colab.output.renderOutput(dataTable, element);\n",
       "          const docLink = document.createElement('div');\n",
       "          docLink.innerHTML = docLinkHtml;\n",
       "          element.appendChild(docLink);\n",
       "        }\n",
       "      </script>\n",
       "    </div>\n",
       "  </div>\n",
       "  "
      ],
      "text/plain": [
       "   Id     ARSON   ASSAULT  ...  VEHICLE THEFT  WARRANTS  WEAPON LAWS\n",
       "0   0  0.001974  0.111186  ...       0.175270  0.046669     0.024703\n",
       "1   1  0.000696  0.076578  ...       0.014565  0.119701     0.015187\n",
       "\n",
       "[2 rows x 40 columns]"
      ]
     },
     "execution_count": 20,
     "metadata": {},
     "output_type": "execute_result"
    }
   ],
   "source": [
    "xgb_preds.head(2)"
   ]
  },
  {
   "cell_type": "code",
   "execution_count": 21,
   "metadata": {
    "id": "ABw_fZlIes_2"
   },
   "outputs": [],
   "source": [
    "# ! kaggle competitions submit -c sf-crime -f xgboost_submissions.csv -m \"Implemented xgboost classifier model.\""
   ]
  },
  {
   "cell_type": "markdown",
   "metadata": {
    "id": "VxHiGWAUiJhs"
   },
   "source": [
    "![image](https://user-images.githubusercontent.com/63333753/150189166-fc2264f6-150d-411a-9eb4-d10e3d7513d8.png)"
   ]
  },
  {
   "cell_type": "markdown",
   "metadata": {
    "id": "ZDCp2s2ZsRoV"
   },
   "source": [
    "### Sumbitting the Predictions"
   ]
  },
  {
   "cell_type": "markdown",
   "metadata": {
    "id": "SfuGOaWoIGya"
   },
   "source": [
    "* The below are the scores obtained after submitting the predictions on kaggle.\n",
    "\n",
    "    ![image](https://user-images.githubusercontent.com/63333753/150190219-48522f48-1680-4e02-9b1f-4b27fd751b7d.png)\n",
    "\n",
    "* From the above scores, we can see that the xgboost model's score is very less compared to all.\n",
    "    - XGBoost performed well on the remaining split of the training data (it can be seen below) which was done as part of training the model.\n",
    "\n",
    "    ![image](https://user-images.githubusercontent.com/63333753/150172794-51abed32-eada-491f-9c4d-ba28fabf9fbb.png)\n",
    "\n",
    "* When I observed and referred the top kaggle kernels, it seems to be that they were using deep learning models (which takes care of featurization and other nitty-gritty things).\n",
    "\n",
    "    - This is definately something that I would like to experiment in my future improvements.\n",
    "\n",
    "* **I backed 103 position out of 2332 teams. Approximately I am in top 5% of kagglers who solved this problem statement.**"
   ]
  }
 ],
 "metadata": {
  "accelerator": "GPU",
  "colab": {
   "collapsed_sections": [],
   "machine_shape": "hm",
   "name": "04-CS1-Predictions.ipynb",
   "provenance": []
  },
  "kernelspec": {
   "display_name": "Python 3 (ipykernel)",
   "language": "python",
   "name": "python3"
  },
  "language_info": {
   "codemirror_mode": {
    "name": "ipython",
    "version": 3
   },
   "file_extension": ".py",
   "mimetype": "text/x-python",
   "name": "python",
   "nbconvert_exporter": "python",
   "pygments_lexer": "ipython3",
   "version": "3.8.4"
  },
  "varInspector": {
   "cols": {
    "lenName": 16,
    "lenType": 16,
    "lenVar": 40
   },
   "kernels_config": {
    "python": {
     "delete_cmd_postfix": "",
     "delete_cmd_prefix": "del ",
     "library": "var_list.py",
     "varRefreshCmd": "print(var_dic_list())"
    },
    "r": {
     "delete_cmd_postfix": ") ",
     "delete_cmd_prefix": "rm(",
     "library": "var_list.r",
     "varRefreshCmd": "cat(var_dic_list()) "
    }
   },
   "types_to_exclude": [
    "module",
    "function",
    "builtin_function_or_method",
    "instance",
    "_Feature"
   ],
   "window_display": false
  }
 },
 "nbformat": 4,
 "nbformat_minor": 1
}
