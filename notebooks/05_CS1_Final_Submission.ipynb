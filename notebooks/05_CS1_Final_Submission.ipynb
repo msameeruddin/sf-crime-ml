{
 "cells": [
  {
   "cell_type": "markdown",
   "metadata": {
    "id": "3U0fLOPL--YB"
   },
   "source": [
    "<center><h1>San Francisco Crime Classification</h1></center>\n",
    "\n",
    "* Final Submission"
   ]
  },
  {
   "cell_type": "markdown",
   "metadata": {
    "id": "wp6WPhNW_RH1"
   },
   "source": [
    "### `import` Packages"
   ]
  },
  {
   "cell_type": "code",
   "execution_count": 1,
   "metadata": {
    "colab": {
     "base_uri": "https://localhost:8080/"
    },
    "id": "iZ4kMdkHKRTk",
    "outputId": "a8ce5663-2ec8-4e1f-b00f-833892951538"
   },
   "outputs": [
    {
     "name": "stdout",
     "output_type": "stream",
     "text": [
      "\u001b[?25l\r",
      "\u001b[K     |████▊                           | 10 kB 38.4 MB/s eta 0:00:01\r",
      "\u001b[K     |█████████▍                      | 20 kB 19.2 MB/s eta 0:00:01\r",
      "\u001b[K     |██████████████                  | 30 kB 10.0 MB/s eta 0:00:01\r",
      "\u001b[K     |██████████████████▉             | 40 kB 8.3 MB/s eta 0:00:01\r",
      "\u001b[K     |███████████████████████▌        | 51 kB 5.2 MB/s eta 0:00:01\r",
      "\u001b[K     |████████████████████████████▏   | 61 kB 5.3 MB/s eta 0:00:01\r",
      "\u001b[K     |████████████████████████████████| 69 kB 3.8 MB/s \n",
      "\u001b[?25h"
     ]
    }
   ],
   "source": [
    "! pip install mpu --quiet"
   ]
  },
  {
   "cell_type": "code",
   "execution_count": 2,
   "metadata": {
    "id": "LIk2PCDu-WOW"
   },
   "outputs": [],
   "source": [
    "import warnings\n",
    "warnings.filterwarnings('ignore')\n",
    "\n",
    "import json\n",
    "import os\n",
    "import pickle\n",
    "import pandas as pd\n",
    "import numpy as np\n",
    "\n",
    "from mpu import haversine_distance\n",
    "from tqdm import tqdm\n",
    "\n",
    "from sklearn.preprocessing import StandardScaler\n",
    "from sklearn.manifold import TSNE\n",
    "from sklearn.model_selection import train_test_split\n",
    "from sklearn.feature_selection import SelectKBest\n",
    "from sklearn.feature_extraction.text import (\n",
    "    CountVectorizer,\n",
    "    TfidfVectorizer\n",
    ")"
   ]
  },
  {
   "cell_type": "markdown",
   "metadata": {
    "id": "HF-h_lQ8_UjK"
   },
   "source": [
    "### Data Reading\n",
    "\n",
    "* In the featurization part, I have already fit the training data and transformed the test data.\n",
    "\n",
    "* I did not fit the test data again as it would create data leakage problem.\n",
    "\n",
    "* For more details, please visit to my [jovian notebook](https://jovian.ai/msameeruddin/01-cs1-featurization)."
   ]
  },
  {
   "cell_type": "code",
   "execution_count": 3,
   "metadata": {
    "id": "PSAN2SBB_KQw"
   },
   "outputs": [],
   "source": [
    "project_path = '/content/drive/MyDrive/AAIC/SCS-1/sf_crime_classification/'"
   ]
  },
  {
   "cell_type": "markdown",
   "metadata": {
    "id": "eMmab1oyXjAo"
   },
   "source": [
    "Dropping the `Id` column"
   ]
  },
  {
   "cell_type": "code",
   "execution_count": 4,
   "metadata": {
    "id": "_OTqkN4GXeom"
   },
   "outputs": [],
   "source": [
    "test = pd.read_csv(filepath_or_buffer=project_path + 'csv_files/test.csv')\n",
    "test.drop(columns=['Id'], axis=1, inplace=True)"
   ]
  },
  {
   "cell_type": "code",
   "execution_count": 5,
   "metadata": {
    "colab": {
     "base_uri": "https://localhost:8080/",
     "height": 206
    },
    "id": "MXUZprXiXFyi",
    "outputId": "d0947b94-abfd-4640-fc45-7b21c1a59127"
   },
   "outputs": [
    {
     "data": {
      "text/html": [
       "\n",
       "  <div id=\"df-29ad37ff-1448-4e85-adaa-21e6def4b9c7\">\n",
       "    <div class=\"colab-df-container\">\n",
       "      <div>\n",
       "<style scoped>\n",
       "    .dataframe tbody tr th:only-of-type {\n",
       "        vertical-align: middle;\n",
       "    }\n",
       "\n",
       "    .dataframe tbody tr th {\n",
       "        vertical-align: top;\n",
       "    }\n",
       "\n",
       "    .dataframe thead th {\n",
       "        text-align: right;\n",
       "    }\n",
       "</style>\n",
       "<table border=\"1\" class=\"dataframe\">\n",
       "  <thead>\n",
       "    <tr style=\"text-align: right;\">\n",
       "      <th></th>\n",
       "      <th>Dates</th>\n",
       "      <th>DayOfWeek</th>\n",
       "      <th>PdDistrict</th>\n",
       "      <th>Address</th>\n",
       "      <th>X</th>\n",
       "      <th>Y</th>\n",
       "    </tr>\n",
       "  </thead>\n",
       "  <tbody>\n",
       "    <tr>\n",
       "      <th>0</th>\n",
       "      <td>2015-05-10 23:59:00</td>\n",
       "      <td>Sunday</td>\n",
       "      <td>BAYVIEW</td>\n",
       "      <td>2000 Block of THOMAS AV</td>\n",
       "      <td>-122.399588</td>\n",
       "      <td>37.735051</td>\n",
       "    </tr>\n",
       "    <tr>\n",
       "      <th>1</th>\n",
       "      <td>2015-05-10 23:51:00</td>\n",
       "      <td>Sunday</td>\n",
       "      <td>BAYVIEW</td>\n",
       "      <td>3RD ST / REVERE AV</td>\n",
       "      <td>-122.391523</td>\n",
       "      <td>37.732432</td>\n",
       "    </tr>\n",
       "    <tr>\n",
       "      <th>2</th>\n",
       "      <td>2015-05-10 23:50:00</td>\n",
       "      <td>Sunday</td>\n",
       "      <td>NORTHERN</td>\n",
       "      <td>2000 Block of GOUGH ST</td>\n",
       "      <td>-122.426002</td>\n",
       "      <td>37.792212</td>\n",
       "    </tr>\n",
       "    <tr>\n",
       "      <th>3</th>\n",
       "      <td>2015-05-10 23:45:00</td>\n",
       "      <td>Sunday</td>\n",
       "      <td>INGLESIDE</td>\n",
       "      <td>4700 Block of MISSION ST</td>\n",
       "      <td>-122.437394</td>\n",
       "      <td>37.721412</td>\n",
       "    </tr>\n",
       "    <tr>\n",
       "      <th>4</th>\n",
       "      <td>2015-05-10 23:45:00</td>\n",
       "      <td>Sunday</td>\n",
       "      <td>INGLESIDE</td>\n",
       "      <td>4700 Block of MISSION ST</td>\n",
       "      <td>-122.437394</td>\n",
       "      <td>37.721412</td>\n",
       "    </tr>\n",
       "  </tbody>\n",
       "</table>\n",
       "</div>\n",
       "      <button class=\"colab-df-convert\" onclick=\"convertToInteractive('df-29ad37ff-1448-4e85-adaa-21e6def4b9c7')\"\n",
       "              title=\"Convert this dataframe to an interactive table.\"\n",
       "              style=\"display:none;\">\n",
       "        \n",
       "  <svg xmlns=\"http://www.w3.org/2000/svg\" height=\"24px\"viewBox=\"0 0 24 24\"\n",
       "       width=\"24px\">\n",
       "    <path d=\"M0 0h24v24H0V0z\" fill=\"none\"/>\n",
       "    <path d=\"M18.56 5.44l.94 2.06.94-2.06 2.06-.94-2.06-.94-.94-2.06-.94 2.06-2.06.94zm-11 1L8.5 8.5l.94-2.06 2.06-.94-2.06-.94L8.5 2.5l-.94 2.06-2.06.94zm10 10l.94 2.06.94-2.06 2.06-.94-2.06-.94-.94-2.06-.94 2.06-2.06.94z\"/><path d=\"M17.41 7.96l-1.37-1.37c-.4-.4-.92-.59-1.43-.59-.52 0-1.04.2-1.43.59L10.3 9.45l-7.72 7.72c-.78.78-.78 2.05 0 2.83L4 21.41c.39.39.9.59 1.41.59.51 0 1.02-.2 1.41-.59l7.78-7.78 2.81-2.81c.8-.78.8-2.07 0-2.86zM5.41 20L4 18.59l7.72-7.72 1.47 1.35L5.41 20z\"/>\n",
       "  </svg>\n",
       "      </button>\n",
       "      \n",
       "  <style>\n",
       "    .colab-df-container {\n",
       "      display:flex;\n",
       "      flex-wrap:wrap;\n",
       "      gap: 12px;\n",
       "    }\n",
       "\n",
       "    .colab-df-convert {\n",
       "      background-color: #E8F0FE;\n",
       "      border: none;\n",
       "      border-radius: 50%;\n",
       "      cursor: pointer;\n",
       "      display: none;\n",
       "      fill: #1967D2;\n",
       "      height: 32px;\n",
       "      padding: 0 0 0 0;\n",
       "      width: 32px;\n",
       "    }\n",
       "\n",
       "    .colab-df-convert:hover {\n",
       "      background-color: #E2EBFA;\n",
       "      box-shadow: 0px 1px 2px rgba(60, 64, 67, 0.3), 0px 1px 3px 1px rgba(60, 64, 67, 0.15);\n",
       "      fill: #174EA6;\n",
       "    }\n",
       "\n",
       "    [theme=dark] .colab-df-convert {\n",
       "      background-color: #3B4455;\n",
       "      fill: #D2E3FC;\n",
       "    }\n",
       "\n",
       "    [theme=dark] .colab-df-convert:hover {\n",
       "      background-color: #434B5C;\n",
       "      box-shadow: 0px 1px 3px 1px rgba(0, 0, 0, 0.15);\n",
       "      filter: drop-shadow(0px 1px 2px rgba(0, 0, 0, 0.3));\n",
       "      fill: #FFFFFF;\n",
       "    }\n",
       "  </style>\n",
       "\n",
       "      <script>\n",
       "        const buttonEl =\n",
       "          document.querySelector('#df-29ad37ff-1448-4e85-adaa-21e6def4b9c7 button.colab-df-convert');\n",
       "        buttonEl.style.display =\n",
       "          google.colab.kernel.accessAllowed ? 'block' : 'none';\n",
       "\n",
       "        async function convertToInteractive(key) {\n",
       "          const element = document.querySelector('#df-29ad37ff-1448-4e85-adaa-21e6def4b9c7');\n",
       "          const dataTable =\n",
       "            await google.colab.kernel.invokeFunction('convertToInteractive',\n",
       "                                                     [key], {});\n",
       "          if (!dataTable) return;\n",
       "\n",
       "          const docLinkHtml = 'Like what you see? Visit the ' +\n",
       "            '<a target=\"_blank\" href=https://colab.research.google.com/notebooks/data_table.ipynb>data table notebook</a>'\n",
       "            + ' to learn more about interactive tables.';\n",
       "          element.innerHTML = '';\n",
       "          dataTable['output_type'] = 'display_data';\n",
       "          await google.colab.output.renderOutput(dataTable, element);\n",
       "          const docLink = document.createElement('div');\n",
       "          docLink.innerHTML = docLinkHtml;\n",
       "          element.appendChild(docLink);\n",
       "        }\n",
       "      </script>\n",
       "    </div>\n",
       "  </div>\n",
       "  "
      ],
      "text/plain": [
       "                 Dates DayOfWeek  ...           X          Y\n",
       "0  2015-05-10 23:59:00    Sunday  ... -122.399588  37.735051\n",
       "1  2015-05-10 23:51:00    Sunday  ... -122.391523  37.732432\n",
       "2  2015-05-10 23:50:00    Sunday  ... -122.426002  37.792212\n",
       "3  2015-05-10 23:45:00    Sunday  ... -122.437394  37.721412\n",
       "4  2015-05-10 23:45:00    Sunday  ... -122.437394  37.721412\n",
       "\n",
       "[5 rows x 6 columns]"
      ]
     },
     "execution_count": 5,
     "metadata": {},
     "output_type": "execute_result"
    }
   ],
   "source": [
    "test.head()"
   ]
  },
  {
   "cell_type": "markdown",
   "metadata": {
    "id": "KO9dx2s4Xoag"
   },
   "source": [
    "### Time Features"
   ]
  },
  {
   "cell_type": "code",
   "execution_count": 6,
   "metadata": {
    "id": "30KY4pabc_WX"
   },
   "outputs": [],
   "source": [
    "def title_text(text):\n",
    "    if isinstance(text, str):\n",
    "        text = text.title()\n",
    "        return text\n",
    "    return text\n",
    "\n",
    "class FeaturizeTime:\n",
    "    def __init__(self, X_q):\n",
    "        self.X_q = X_q\n",
    "    \n",
    "    def extract_date(self, time):\n",
    "        return time.split(' ')[0]\n",
    "\n",
    "    def extract_year(self, date):\n",
    "        return int(date.split('-')[0])\n",
    "\n",
    "    def extract_month(self, date):\n",
    "        return int(date.split('-')[1])\n",
    "\n",
    "    def extract_day(self, date):\n",
    "        return int(date.split('-')[2])\n",
    "\n",
    "    def extract_hour(self, time):\n",
    "        date, hms = time.split(' ')\n",
    "        return int(hms.split(':')[0])\n",
    "\n",
    "    def extract_minute(self, time):\n",
    "        date, hms = time.split(' ')\n",
    "        return int(hms.split(':')[1])\n",
    "\n",
    "    def extract_season(self, month):\n",
    "        if month in [4, 5, 6]:\n",
    "            return 'summer'\n",
    "        elif month in [7, 8, 9]:\n",
    "            return 'rainy'\n",
    "        elif month in [10, 11, 12]:\n",
    "            return 'winter'\n",
    "        return 'spring'\n",
    "\n",
    "    def extract_hour_type(self, hour):\n",
    "        if (hour >= 4) and (hour < 12):\n",
    "            return 'morning'\n",
    "        elif (hour >= 12) and (hour < 15):\n",
    "            return 'noon'\n",
    "        elif (hour >= 15) and (hour < 18):\n",
    "            return 'evening'\n",
    "        elif (hour >= 18) and (hour < 22):\n",
    "            return 'night'\n",
    "        return 'mid-night'\n",
    "\n",
    "    def extract_time_period(self, hour):\n",
    "        if hour in [0, 1, 2, 3, 4, 5, 6, 7, 8, 9, 10, 11]:\n",
    "            return 'am'\n",
    "        return 'pm'\n",
    "    \n",
    "    def extract_address_type(self, addr):\n",
    "        if ' / ' in addr:\n",
    "            return 'Cross'\n",
    "        addr_sep = addr.split(' ')\n",
    "        addr_type = addr_sep[-1]\n",
    "        return addr_type\n",
    "    \n",
    "    #########\n",
    "    \n",
    "    def featurize_time(self):\n",
    "        time_val = self.X_q[0]\n",
    "        addr_val = self.X_q[3]\n",
    "\n",
    "        date = self.extract_date(time=time_val)\n",
    "        year = self.extract_year(date=date)\n",
    "        month = self.extract_month(date=date)\n",
    "        day = self.extract_day(date=date)\n",
    "        hour = self.extract_hour(time=time_val)\n",
    "        minute = self.extract_minute(time=time_val)\n",
    "        season = self.extract_season(month=month)\n",
    "        hour_type = self.extract_hour_type(hour=hour)\n",
    "        time_period = self.extract_time_period(hour=hour)\n",
    "        addr_type = self.extract_address_type(addr=addr_val)\n",
    "        \n",
    "        v = pd.DataFrame()\n",
    "        \n",
    "        prev_vals = list(self.X_q)\n",
    "        fe_vals = [date, year, month, day, hour, minute, season, hour_type, time_period, addr_type]\n",
    "        v['vals'] = prev_vals + fe_vals\n",
    "\n",
    "        prev_columns = ['time', 'weekday', 'police_dept', 'address', 'longitude', 'latitude']\n",
    "        fe_columns = ['date', 'year', 'month', 'day', 'hour', 'minute', 'season', 'hour_type', 'time_period', 'addr_type']\n",
    "        columns = prev_columns + fe_columns\n",
    "\n",
    "        tdf = v.T\n",
    "        tdf.columns = columns\n",
    "        tdf = tdf.applymap(func=title_text)\n",
    "        \n",
    "        return tdf"
   ]
  },
  {
   "cell_type": "markdown",
   "metadata": {
    "id": "BkK5CFlfXr9B"
   },
   "source": [
    "### Categorical Features"
   ]
  },
  {
   "cell_type": "code",
   "execution_count": 7,
   "metadata": {
    "id": "AoFXStf8dk7W"
   },
   "outputs": [],
   "source": [
    "class OneHotEncoding:\n",
    "    def __init__(self, X_q):\n",
    "        self.X_q = X_q\n",
    "\n",
    "        self.bays    = ['Bayview', 'Central', 'Ingleside', 'Mission',\t'Northern', \n",
    "                        'Park', 'Richmond', 'Southern', 'Taraval', 'Tenderloin']\n",
    "        self.days    = ['Friday', 'Monday', 'Saturday', 'Sunday', \n",
    "                        'Thursday', 'Tuesday', 'Wednesday']\n",
    "        self.ap      = ['Am', 'Pm']\n",
    "        self.seasons = ['Rainy', 'Spring', 'Summer', 'Winter']\n",
    "        self.ht      = ['Evening', 'Mid-Night', 'Morning', 'Night', 'Noon']\n",
    "        self.streets = ['/', 'Al', 'Av', 'Bl', 'Cr', 'Cross', 'Ct', 'Dr', 'Ex', 'Hwy', \n",
    "                        'Hy', 'I-80', 'Ln', 'Mar', 'Palms', 'Park', 'Pl', 'Pz', 'Rd', \n",
    "                        'Rw', 'St', 'Stwy', 'Ter', 'Tr', 'Way', 'Wk', 'Wy']\n",
    "    \n",
    "    def encode_ohe(self, val, val_types):\n",
    "        res = [0] * len(val_types)\n",
    "        val_index = val_types.index(val)\n",
    "        res[val_index] = 1\n",
    "        return res\n",
    "    \n",
    "    def get_dummies(self):\n",
    "        X_q = self.X_q.values[0]\n",
    "        \n",
    "        #######\n",
    "        bay_area = X_q[2].title()\n",
    "        if (bay_area == 'Bayview'):\n",
    "            fbay = [1] + ([0] * 9)\n",
    "        elif (bay_area == 'Central'):\n",
    "            fbay = [0] + [1] + ([0] * 8)\n",
    "        elif (bay_area == 'Ingleside'):\n",
    "            fbay = [0, 0] + [1] + ([0] * 7)\n",
    "        elif (bay_area == 'Mission'):\n",
    "            fbay = [0, 0, 0] + [1] + ([0] * 6)\n",
    "        elif (bay_area == 'Northern'):\n",
    "            fbay = ([0] * 4) + [1] + ([0] * 5)\n",
    "        elif (bay_area == 'Park'):\n",
    "            fbay = ([0] * 5) + [1] + ([0] * 4)\n",
    "        elif (bay_area == 'Richmond'):\n",
    "            fbay = ([0] * 6) + [1] + [0, 0, 0]\n",
    "        elif (bay_area == 'Southern'):\n",
    "            fbay = ([0] * 7) + [1] + [0, 0]\n",
    "        elif (bay_area == 'Taraval'):\n",
    "            fbay = ([0] * 8) + [1] + [0]\n",
    "        elif (bay_area == 'Tenderloin'):\n",
    "            fbay = ([0] * 9) + [1]\n",
    "        else:\n",
    "            fbay = [0] * 10\n",
    "        \n",
    "        #######\n",
    "        if (X_q[1] == 'Friday'):\n",
    "            fday = [1] + ([0] * 6)\n",
    "        elif (X_q[1] == 'Monday'):\n",
    "            fday = [0] + [1] + ([0] * 5)\n",
    "        elif (X_q[1] == 'Saturday'):\n",
    "            fday = [0, 0] + [1] + ([0] * 4)\n",
    "        elif (X_q[1] == 'Sunday'):\n",
    "            fday = ([0] * 3) + [1] + ([0] * 3)\n",
    "        elif (X_q[1] == 'Thursday'):\n",
    "            fday = ([0] * 4) + [1] + [0, 0]\n",
    "        elif (X_q[1] == 'Tuesday'):\n",
    "            fday = ([0] * 5) + [1] + [0]\n",
    "        elif (X_q[1] == 'Wednesday'):\n",
    "            fday = ([0] * 6) + [1]\n",
    "        else:\n",
    "            fday = [0] * 7\n",
    "        \n",
    "        #######\n",
    "        if (X_q[-2] == 'Am'):\n",
    "            f_tp = [1, 0]\n",
    "        elif (X_q[-2] == 'Pm'):\n",
    "            f_tp = [0, 1]\n",
    "        else:\n",
    "            f_tp = [0, 0]\n",
    "        \n",
    "        #######\n",
    "        if (X_q[-4] == 'Rainy'):\n",
    "            fseason = [1, 0, 0, 0]\n",
    "        elif (X_q[-4] == 'Spring'):\n",
    "            fseason = [0, 1, 0, 0]\n",
    "        elif (X_q[-4] == 'Summer'):\n",
    "            fseason = [0, 0, 1, 0]\n",
    "        elif (X_q[-4] == 'Winter'):\n",
    "            fseason = [0, 0, 0, 1]\n",
    "        else:\n",
    "            fseason = [0, 0, 0, 0]\n",
    "        \n",
    "        #######\n",
    "        if (X_q[-3] == 'Evening'):\n",
    "            f_ht = [1, 0, 0, 0, 0]\n",
    "        elif (X_q[-3] == 'Mid-Night'):\n",
    "            f_ht = [0, 1, 0, 0, 0]\n",
    "        elif (X_q[-3] == 'Morning'):\n",
    "            f_ht = [0, 0, 1, 0, 0]\n",
    "        elif (X_q[-3] == 'Night'):\n",
    "            f_ht = [0, 0, 0, 1, 0]\n",
    "        elif (X_q[-3] == 'Noon'):\n",
    "            f_ht = [0, 0, 0, 0, 1]\n",
    "        else:\n",
    "            f_ht = [0, 0, 0, 0, 0]\n",
    "        \n",
    "        for i in self.streets:\n",
    "            if (X_q[-1] == i):\n",
    "                f_st = self.encode_ohe(i, self.streets)\n",
    "                break\n",
    "            else:\n",
    "                continue\n",
    "        \n",
    "        X_new = list(X_q) + fbay + fday + f_tp + fseason + f_ht + f_st\n",
    "        columns = list(self.X_q.columns) + self.bays + self.days + self.ap + self.seasons + self.ht + self.streets\n",
    "        v = pd.DataFrame()\n",
    "        v['vals'] = X_new\n",
    "        tdf = v.T\n",
    "        tdf.columns = columns\n",
    "\n",
    "        tdf = tdf.drop(columns=['time', 'weekday', 'police_dept', 'date', 'season', 'hour_type', 'time_period', 'addr_type'], axis=1)\n",
    "\n",
    "        return tdf"
   ]
  },
  {
   "cell_type": "markdown",
   "metadata": {
    "id": "HtR1TwtZXu4A"
   },
   "source": [
    "### Spatial Distance Features"
   ]
  },
  {
   "cell_type": "code",
   "execution_count": 8,
   "metadata": {
    "id": "CMhGnrnBIMoH"
   },
   "outputs": [],
   "source": [
    "class SpatialDistanceFeatures:\n",
    "    def __init__(self, X_q):\n",
    "        self.X_q = X_q\n",
    "        self.sf_pstations_tourists = {\n",
    "            \"sfpd\"                : [37.7725, -122.3894],\n",
    "            \"ingleside\"           : [37.7247, -122.4463],\n",
    "            \"central\"             : [37.7986, -122.4101],\n",
    "            \"northern\"            : [37.7802, -122.4324],\n",
    "            \"mission\"             : [37.7628, -122.4220],\n",
    "            \"tenderloin\"          : [37.7838, -122.4129],\n",
    "            \"taraval\"             : [37.7437, -122.4815],\n",
    "            \"sfpd park\"           : [37.7678, -122.4552],\n",
    "            \"bayview\"             : [37.7298, -122.3977],\n",
    "            \"kma438 sfpd\"         : [37.7725, -122.3894],\n",
    "            \"richmond\"            : [37.7801, -122.4644],\n",
    "            \"police commission\"   : [37.7725, -122.3894],\n",
    "            \"juvenile\"            : [37.7632, -122.4220],\n",
    "            \"southern\"            : [37.6556, -122.4366],\n",
    "            \"sfpd pistol range\"   : [37.7200, -122.4996],\n",
    "            \"sfpd public affairs\" : [37.7754, -122.4039],\n",
    "            \"broadmoor\"           : [37.6927, -122.4748],\n",
    "            #################\n",
    "            \"napa wine country\"      : [38.2975, -122.2869],\n",
    "            \"sonoma wine country\"    : [38.2919, -122.4580],\n",
    "            \"muir woods\"             : [37.8970, -122.5811],\n",
    "            \"golden gate\"            : [37.8199, -122.4783],\n",
    "            \"yosemite national park\" : [37.865101, -119.538330],\n",
    "        }\n",
    "    \n",
    "    def get_distance(self, ij):\n",
    "        i = ij[0]\n",
    "        j = ij[1]\n",
    "        distance = haversine_distance(origin=i, destination=j)\n",
    "        return distance\n",
    "\n",
    "    def extract_spatial_distance_feature(self):\n",
    "        X_q = self.X_q.values[0]\n",
    "        lat_val = X_q[2]\n",
    "        lon_val = X_q[1]\n",
    "        \n",
    "        origin = [lat_val, lon_val]\n",
    "        pnames = list(self.sf_pstations_tourists.keys())\n",
    "        pcoords = list(self.sf_pstations_tourists.values())\n",
    "\n",
    "        pdists = []\n",
    "        for pc in pcoords:\n",
    "            dist = self.get_distance(ij=[origin, pc])\n",
    "            pdists.append(dist)\n",
    "        \n",
    "        v = pd.DataFrame()\n",
    "        v['vals'] = pdists\n",
    "        tdf = v.T\n",
    "        tdf.columns = pnames\n",
    "\n",
    "        return pd.concat(objs=[self.X_q, tdf], axis=1)"
   ]
  },
  {
   "cell_type": "markdown",
   "metadata": {
    "id": "rCAMFADJXxo3"
   },
   "source": [
    "### LatLong Features"
   ]
  },
  {
   "cell_type": "code",
   "execution_count": 9,
   "metadata": {
    "id": "3-C0KHCeNI7Y"
   },
   "outputs": [],
   "source": [
    "class LatLongFeatures:\n",
    "    def __init__(self, X_q):\n",
    "        self.X_q = X_q\n",
    "    \n",
    "    def lat_lon_sum(self, ll):\n",
    "        lat = ll[0]\n",
    "        lon = ll[1]\n",
    "        return lat + lon\n",
    "\n",
    "    def lat_lon_diff(self, ll):\n",
    "        lat = ll[0]\n",
    "        lon = ll[1]\n",
    "        return lon - lat\n",
    "\n",
    "    def lat_lon_sum_square(self, ll):\n",
    "        lat = ll[0]\n",
    "        lon = ll[1]\n",
    "        return (lat + lon) ** 2\n",
    "\n",
    "    def lat_lon_diff_square(self, ll):\n",
    "        lat = ll[0]\n",
    "        lon = ll[1]\n",
    "        return (lat - lon) ** 2\n",
    "\n",
    "    def lat_lon_sum_sqrt(self, ll):\n",
    "        lat = ll[0]\n",
    "        lon = ll[1]\n",
    "        return (lat**2 + lon**2) ** (1 / 2)\n",
    "\n",
    "    def lat_lon_diff_sqrt(self, ll):\n",
    "        lat = ll[0]\n",
    "        lon = ll[1]\n",
    "        return (lon**2 - lat**2) ** (1 / 2)\n",
    "    \n",
    "    def extract_lat_lon_features(self):\n",
    "        X_q = self.X_q.values[0]\n",
    "        \n",
    "        lat_val = X_q[2]\n",
    "        lon_val = X_q[1]\n",
    "        ll = [lat_val, lon_val]\n",
    "\n",
    "        columns = ['lat_lon_sum', 'lat_lon_diff', 'lat_lon_sum_square', \n",
    "                   'lat_lon_diff_square', 'lat_lon_sum_sqrt', 'lat_lon_diff_sqrt']\n",
    "        vals = [self.lat_lon_sum(ll), self.lat_lon_diff(ll), self.lat_lon_sum_square(ll), \n",
    "                self.lat_lon_diff_square(ll), self.lat_lon_sum_sqrt(ll), self.lat_lon_diff_sqrt(ll)]\n",
    "\n",
    "        v = pd.DataFrame()\n",
    "        v['vals'] = vals\n",
    "        tdf = v.T\n",
    "        tdf.columns = columns\n",
    "\n",
    "        return pd.concat(objs=[self.X_q, tdf], axis=1)"
   ]
  },
  {
   "cell_type": "markdown",
   "metadata": {
    "id": "tjidMcu0X0Ov"
   },
   "source": [
    "### Address (BoW & TfIDF) Features"
   ]
  },
  {
   "cell_type": "code",
   "execution_count": 10,
   "metadata": {
    "id": "YiGfUEiiNIxe"
   },
   "outputs": [],
   "source": [
    "class AddressFeatures:\n",
    "    def __init__(self, X_q):\n",
    "        self.X_q = X_q\n",
    "        \n",
    "        ## I got these column names (features) from the training data\n",
    "        self.best_bow_columns   = [17, 236, 328, 421, 718, 869, 940, 1023, 1078, 1163, 1178, \n",
    "                                   1180, 1392, 1466, 1500, 1550, 1582, 1817, 1854, 1971]\n",
    "        self.best_tfidf_columns = [17, 236, 328, 421, 718, 869, 940, 1023, 1078, 1163, 1178, \n",
    "                                   1180, 1392, 1466, 1500, 1550, 1582, 1817, 1854, 1971]\n",
    "    \n",
    "    def extract_bow(self, address):\n",
    "        model_name = 'vect_bow_address.pkl'\n",
    "        vect = pickle.load(open(project_path + 'models/' + model_name, \"rb\"))\n",
    "        f_addr = vect.transform(raw_documents=[address])\n",
    "        f_addr = f_addr.toarray()[:, self.best_bow_columns]\n",
    "        return f_addr[0]\n",
    "    \n",
    "    def extract_tfidf(self, address):\n",
    "        model_name = 'vect_tfidf_address.pkl'\n",
    "        vect = pickle.load(open(project_path + 'models/' + model_name, \"rb\"))\n",
    "        f_addr = vect.transform(raw_documents=[address])\n",
    "        f_addr = f_addr.toarray()[:, self.best_tfidf_columns]\n",
    "        return f_addr[0]\n",
    "    \n",
    "    def extract_addr_features(self):\n",
    "        X_q = self.X_q.values[0]\n",
    "        address = X_q[0]\n",
    "        bow_f = self.extract_bow(address=address)\n",
    "        tfidf_f = self.extract_tfidf(address=address)\n",
    "\n",
    "        columns = self.best_bow_columns + self.best_tfidf_columns\n",
    "        v = pd.DataFrame()\n",
    "        v['vals'] = list(bow_f) + list(tfidf_f)\n",
    "        tdf = v.T\n",
    "        tdf.columns = columns\n",
    "\n",
    "        tdf = pd.concat(objs=[self.X_q, tdf], axis=1)\n",
    "        tdf = tdf.drop(columns=['address'], axis=1)\n",
    "        \n",
    "        return tdf"
   ]
  },
  {
   "cell_type": "markdown",
   "metadata": {
    "id": "CGrRIaaBArGy"
   },
   "source": [
    "### Make Predictions"
   ]
  },
  {
   "cell_type": "code",
   "execution_count": 11,
   "metadata": {
    "id": "6JDm1Z71ZDuA"
   },
   "outputs": [],
   "source": [
    "labels = [\n",
    "    'ARSON',\n",
    "    'ASSAULT',\n",
    "    'BAD CHECKS',\n",
    "    'BRIBERY',\n",
    "    'BURGLARY',\n",
    "    'DISORDERLY CONDUCT',\n",
    "    'DRIVING UNDER THE INFLUENCE',\n",
    "    'DRUG/NARCOTIC',\n",
    "    'DRUNKENNESS',\n",
    "    'EMBEZZLEMENT',\n",
    "    'EXTORTION',\n",
    "    'FAMILY OFFENSES',\n",
    "    'FORGERY/COUNTERFEITING',\n",
    "    'FRAUD',\n",
    "    'GAMBLING',\n",
    "    'KIDNAPPING',\n",
    "    'LARCENY/THEFT',\n",
    "    'LIQUOR LAWS',\n",
    "    'LOITERING',\n",
    "    'MISSING PERSON',\n",
    "    'NON-CRIMINAL',\n",
    "    'OTHER OFFENSES',\n",
    "    'PORNOGRAPHY/OBSCENE MAT',\n",
    "    'PROSTITUTION',\n",
    "    'RECOVERED VEHICLE',\n",
    "    'ROBBERY',\n",
    "    'RUNAWAY',\n",
    "    'SECONDARY CODES',\n",
    "    'SEX OFFENSES FORCIBLE',\n",
    "    'SEX OFFENSES NON FORCIBLE',\n",
    "    'STOLEN PROPERTY',\n",
    "    'SUICIDE',\n",
    "    'SUSPICIOUS OCC',\n",
    "    'TREA',\n",
    "    'TRESPASS',\n",
    "    'VANDALISM',\n",
    "    'VEHICLE THEFT',\n",
    "    'WARRANTS',\n",
    "    'WEAPON LAWS'\n",
    " ]"
   ]
  },
  {
   "cell_type": "markdown",
   "metadata": {
    "id": "HtkAgS3jX84H"
   },
   "source": [
    "### Single Point Predictor"
   ]
  },
  {
   "cell_type": "code",
   "execution_count": 12,
   "metadata": {
    "id": "HaNxwt99UTQ2"
   },
   "outputs": [],
   "source": [
    "class CrimeClassifier:\n",
    "\n",
    "    def __init__(self, X_q):\n",
    "        '''Featurization'''\n",
    "        ft = FeaturizeTime(X_q=X_q)\n",
    "        X_q = ft.featurize_time()\n",
    "\n",
    "        fc = OneHotEncoding(X_q=X_q)\n",
    "        X_q = fc.get_dummies()\n",
    "\n",
    "        fsd = SpatialDistanceFeatures(X_q=X_q)\n",
    "        X_q = fsd.extract_spatial_distance_feature()\n",
    "\n",
    "        fll = LatLongFeatures(X_q=X_q)\n",
    "        X_q = fll.extract_lat_lon_features()\n",
    "\n",
    "        fa = AddressFeatures(X_q=X_q)\n",
    "        X_q = fa.extract_addr_features()\n",
    "\n",
    "        '''Preprocessing'''\n",
    "        if isinstance(X_q.shape, tuple) and (len(X_q.shape) == 1):\n",
    "            X_q = X_q.reshape(1, -1)\n",
    "        scaler = pickle.load(open(project_path + 'models/scaler.pkl', \"rb\"))\n",
    "        \n",
    "        self.X_q = scaler.transform(X_q)\n",
    "    \n",
    "    def predict(self, model_name='xgboost', labels=labels):\n",
    "        model_path = project_path + 'models/'\n",
    "        if (model_name == 'logistic_regression'):\n",
    "            model_path = model_path + 'log_reg_classifier.pkl'\n",
    "        elif (model_name == 'decision_tree'):\n",
    "            model_path = model_path + 'decision_tree_classifier.pkl'\n",
    "        elif (model_name == 'random_forest'):\n",
    "            model_path = model_path + 'random_forest_classifier.pkl'\n",
    "        else:\n",
    "            model_path = model_path + 'xgboost_multi_classifier.pkl'\n",
    "        \n",
    "        model = pickle.load(open(model_path, 'rb'))\n",
    "        probas = model.predict_proba(self.X_q)\n",
    "        max_prob = np.argmax(probas)\n",
    "        category = labels[max_prob]\n",
    "\n",
    "        return category"
   ]
  },
  {
   "cell_type": "markdown",
   "metadata": {
    "id": "SfhQU3vjYOyg"
   },
   "source": [
    "**Single point**"
   ]
  },
  {
   "cell_type": "code",
   "execution_count": 13,
   "metadata": {
    "colab": {
     "base_uri": "https://localhost:8080/"
    },
    "id": "ce9w-oGTW6Ub",
    "outputId": "e086fda0-f669-4de5-9167-0fd82011d58e"
   },
   "outputs": [
    {
     "name": "stdout",
     "output_type": "stream",
     "text": [
      "Input : ['2015-05-10 23:59:00' 'Sunday' 'BAYVIEW' '2000 Block of THOMAS AV'\n",
      " -122.39958770418998 37.7350510103906]\n",
      "\n",
      "The cateogry of the crime is : VEHICLE THEFT\n"
     ]
    }
   ],
   "source": [
    "X_q = test.values[0]\n",
    "print(\"Input :\", X_q)\n",
    "cc = CrimeClassifier(X_q=X_q)\n",
    "prediction = cc.predict()\n",
    "print(\"\\nThe cateogry of the crime is :\", prediction)"
   ]
  },
  {
   "cell_type": "code",
   "execution_count": 14,
   "metadata": {
    "colab": {
     "base_uri": "https://localhost:8080/"
    },
    "id": "6WUbZtNoYTZO",
    "outputId": "a1d3e381-9cf2-4809-c991-d8612d0e8c02"
   },
   "outputs": [
    {
     "name": "stdout",
     "output_type": "stream",
     "text": [
      "Input : ['2015-05-10 23:00:00' 'Sunday' 'INGLESIDE' '100 Block of PERALTA AV'\n",
      " -122.40860777448499 37.7467873555673]\n",
      "\n",
      "The cateogry of the crime is : VEHICLE THEFT\n"
     ]
    }
   ],
   "source": [
    "X_q = test.values[10]\n",
    "print(\"Input :\", X_q)\n",
    "cc = CrimeClassifier(X_q=X_q)\n",
    "prediction = cc.predict()\n",
    "print(\"\\nThe cateogry of the crime is :\", prediction)"
   ]
  },
  {
   "cell_type": "code",
   "execution_count": 15,
   "metadata": {
    "colab": {
     "base_uri": "https://localhost:8080/"
    },
    "id": "AVfuEwy9ZXp-",
    "outputId": "3a9639a6-9da4-4c8d-9e12-f6b1db049bbe"
   },
   "outputs": [
    {
     "name": "stdout",
     "output_type": "stream",
     "text": [
      "Input : ['2015-03-26 15:00:00' 'Thursday' 'SOUTHERN' '0 Block of 7TH ST'\n",
      " -122.41146890305201 37.7795579712601]\n",
      "\n",
      "The cateogry of the crime is : LARCENY/THEFT\n"
     ]
    }
   ],
   "source": [
    "X_q = test.values[10000]\n",
    "print(\"Input :\", X_q)\n",
    "cc = CrimeClassifier(X_q=X_q)\n",
    "prediction = cc.predict()\n",
    "print(\"\\nThe cateogry of the crime is :\", prediction)"
   ]
  },
  {
   "cell_type": "markdown",
   "metadata": {
    "id": "wCFYr-w39GBo"
   },
   "source": [
    "**UI part**\n",
    "\n",
    "* The video link - https://youtu.be/S07Zl7W0_fA"
   ]
  },
  {
   "cell_type": "markdown",
   "metadata": {
    "id": "ZKxTXCxf9IeP"
   },
   "source": [
    "<center><img src=\"https://user-images.githubusercontent.com/63333753/150540446-f5d9d979-25cd-4553-b7c8-c5ce246b6daf.png\"></center>"
   ]
  },
  {
   "cell_type": "markdown",
   "metadata": {
    "id": "acQ2tNV39Yei"
   },
   "source": [
    "**End**"
   ]
  }
 ],
 "metadata": {
  "accelerator": "GPU",
  "colab": {
   "collapsed_sections": [],
   "machine_shape": "hm",
   "name": "05-CS1-Final-Submission.ipynb",
   "provenance": []
  },
  "kernelspec": {
   "display_name": "Python 3 (ipykernel)",
   "language": "python",
   "name": "python3"
  },
  "language_info": {
   "codemirror_mode": {
    "name": "ipython",
    "version": 3
   },
   "file_extension": ".py",
   "mimetype": "text/x-python",
   "name": "python",
   "nbconvert_exporter": "python",
   "pygments_lexer": "ipython3",
   "version": "3.8.4"
  },
  "varInspector": {
   "cols": {
    "lenName": 16,
    "lenType": 16,
    "lenVar": 40
   },
   "kernels_config": {
    "python": {
     "delete_cmd_postfix": "",
     "delete_cmd_prefix": "del ",
     "library": "var_list.py",
     "varRefreshCmd": "print(var_dic_list())"
    },
    "r": {
     "delete_cmd_postfix": ") ",
     "delete_cmd_prefix": "rm(",
     "library": "var_list.r",
     "varRefreshCmd": "cat(var_dic_list()) "
    }
   },
   "types_to_exclude": [
    "module",
    "function",
    "builtin_function_or_method",
    "instance",
    "_Feature"
   ],
   "window_display": false
  }
 },
 "nbformat": 4,
 "nbformat_minor": 1
}
